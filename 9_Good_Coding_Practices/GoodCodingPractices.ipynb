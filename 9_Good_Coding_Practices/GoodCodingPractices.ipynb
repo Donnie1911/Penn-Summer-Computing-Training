{
 "cells": [
  {
   "attachments": {},
   "cell_type": "markdown",
   "metadata": {
    "slideshow": {
     "slide_type": "slide"
    }
   },
   "source": [
    "# Good Coding Practices"
   ]
  },
  {
   "cell_type": "code",
   "execution_count": 2,
   "metadata": {
    "slideshow": {
     "slide_type": "skip"
    }
   },
   "outputs": [],
   "source": [
    "from IPython.display import display, Markdown"
   ]
  },
  {
   "attachments": {},
   "cell_type": "markdown",
   "metadata": {
    "slideshow": {
     "slide_type": "notes"
    }
   },
   "source": [
    "Display this notebook in slidshow form by running\n",
    "```\n",
    "jupyter nbconvert GoodCodingPractices.ipynb --to slides --post serve\n",
    "```"
   ]
  },
  {
   "attachments": {},
   "cell_type": "markdown",
   "metadata": {
    "slideshow": {
     "slide_type": "slide"
    }
   },
   "source": [
    "Code is meant to be read by humans too, not just computers! Code goes through many iterations:\n",
    "\n",
    "* Adding features\n",
    "* Working with collaborators\n",
    "* Fixing bugs\n",
    "\n",
    "Code must be **maintainable**: easy to understand and change. Badly written code will <span style=\"color:red\">waste a lot of time</span>, both for your future self and collaborators."
   ]
  },
  {
   "attachments": {},
   "cell_type": "markdown",
   "metadata": {
    "slideshow": {
     "slide_type": "slide"
    }
   },
   "source": [
    "### Bad Code Example \n",
    "\n",
    "What does `f` do here?"
   ]
  },
  {
   "cell_type": "code",
   "execution_count": 15,
   "metadata": {},
   "outputs": [],
   "source": [
    "def f(o, oo, O):\n",
    "    return (-oo-(oo**2-4*o*O)**0.5)/2*o,(-oo+(oo**2-4*o*O)**0.5)/2*o"
   ]
  },
  {
   "attachments": {},
   "cell_type": "markdown",
   "metadata": {
    "slideshow": {
     "slide_type": "fragment"
    }
   },
   "source": [
    "This is almost impossible to read..."
   ]
  },
  {
   "attachments": {},
   "cell_type": "markdown",
   "metadata": {
    "slideshow": {
     "slide_type": "slide"
    }
   },
   "source": [
    "### Bad Code Example (2)\n",
    "\n",
    "What if we changed the names?"
   ]
  },
  {
   "cell_type": "code",
   "execution_count": 14,
   "metadata": {},
   "outputs": [],
   "source": [
    "def solve_pythagoras(a, b, c):\n",
    "    return (-b-(b**2-4*a*c)**0.5)/2*a,(-b+(b**2-4*a*c)**0.5)/2*a"
   ]
  },
  {
   "attachments": {},
   "cell_type": "markdown",
   "metadata": {
    "slideshow": {
     "slide_type": "slide"
    }
   },
   "source": [
    "### Bad Code Example (3)\n",
    "\n",
    "Make it even better: reduce duplicate code and add whitespace"
   ]
  },
  {
   "cell_type": "code",
   "execution_count": 10,
   "metadata": {},
   "outputs": [],
   "source": [
    "def solve_pythagoras(a, b, c):\n",
    "    discriminant = (b**2 - 4*a*c) ** 0.5\n",
    "    neg_root = (-b - discriminant) / 2 * a\n",
    "    pos_root = (-b + discriminant) / 2 * a\n",
    "    return neg_root, pos_root"
   ]
  },
  {
   "attachments": {},
   "cell_type": "markdown",
   "metadata": {
    "slideshow": {
     "slide_type": "fragment"
    }
   },
   "source": [
    "Did you catch the bug?"
   ]
  }
 ],
 "metadata": {
  "kernelspec": {
   "display_name": "Python 3 (ipykernel)",
   "language": "python",
   "name": "python3"
  },
  "language_info": {
   "codemirror_mode": {
    "name": "ipython",
    "version": 3
   },
   "file_extension": ".py",
   "mimetype": "text/x-python",
   "name": "python",
   "nbconvert_exporter": "python",
   "pygments_lexer": "ipython3",
   "version": "3.9.6"
  }
 },
 "nbformat": 4,
 "nbformat_minor": 4
}
