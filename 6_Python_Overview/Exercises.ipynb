{
 "cells": [
  {
   "cell_type": "markdown",
   "id": "fce83661",
   "metadata": {},
   "source": [
    "# Let's do some quick python!"
   ]
  },
  {
   "cell_type": "code",
   "execution_count": 1,
   "id": "e62b862b",
   "metadata": {},
   "outputs": [
    {
     "name": "stdout",
     "output_type": "stream",
     "text": [
      "hello world\n"
     ]
    }
   ],
   "source": [
    "print('hello world')"
   ]
  },
  {
   "cell_type": "markdown",
   "id": "74b386d2",
   "metadata": {},
   "source": [
    "Task: print your name"
   ]
  },
  {
   "cell_type": "code",
   "execution_count": null,
   "id": "eb0834ca",
   "metadata": {},
   "outputs": [],
   "source": []
  },
  {
   "cell_type": "code",
   "execution_count": 2,
   "id": "437233d2",
   "metadata": {},
   "outputs": [
    {
     "name": "stdout",
     "output_type": "stream",
     "text": [
      "0\n",
      "1\n",
      "2\n",
      "3\n",
      "4\n"
     ]
    }
   ],
   "source": [
    "# For loops are easier done than said\n",
    "for i in range(5):\n",
    "    print(i)"
   ]
  },
  {
   "cell_type": "code",
   "execution_count": 3,
   "id": "0dc783fb",
   "metadata": {},
   "outputs": [
    {
     "name": "stdout",
     "output_type": "stream",
     "text": [
      "bigger than 3\n",
      "bigger than 3\n"
     ]
    }
   ],
   "source": [
    "for i in range(5):\n",
    "    if i>2:\n",
    "        print('bigger than 3')"
   ]
  },
  {
   "cell_type": "markdown",
   "id": "79c3f99b",
   "metadata": {},
   "source": [
    "Task: add up all odd numbers up to 20. hint: % is the reminder operation"
   ]
  },
  {
   "cell_type": "code",
   "execution_count": null,
   "id": "38fa9c58",
   "metadata": {},
   "outputs": [],
   "source": []
  },
  {
   "cell_type": "code",
   "execution_count": 4,
   "id": "36edc5e8",
   "metadata": {},
   "outputs": [
    {
     "name": "stdout",
     "output_type": "stream",
     "text": [
      "[1, 2, 3, 4, 5]\n"
     ]
    }
   ],
   "source": [
    "foo = (1,2,3,4,5)\n",
    "bar = []\n",
    "for i in foo:\n",
    "    bar.append(i)\n",
    "    \n",
    "print(bar)"
   ]
  },
  {
   "cell_type": "markdown",
   "id": "950a26e6",
   "metadata": {},
   "source": [
    "But really, usually we should be using numpy"
   ]
  },
  {
   "cell_type": "code",
   "execution_count": 3,
   "id": "63322cec",
   "metadata": {},
   "outputs": [],
   "source": [
    "# Most python programs use outside packages\n",
    "# Use 'import' to load in packages already in your python environment\n",
    "import numpy as np"
   ]
  },
  {
   "cell_type": "code",
   "execution_count": 6,
   "id": "be800be8",
   "metadata": {},
   "outputs": [],
   "source": [
    "foo = np.array(foo)"
   ]
  },
  {
   "cell_type": "code",
   "execution_count": 7,
   "id": "90c5f151",
   "metadata": {},
   "outputs": [
    {
     "ename": "TypeError",
     "evalue": "can only concatenate list (not \"int\") to list",
     "output_type": "error",
     "traceback": [
      "\u001b[0;31m---------------------------------------------------------------------------\u001b[0m",
      "\u001b[0;31mTypeError\u001b[0m                                 Traceback (most recent call last)",
      "Cell \u001b[0;32mIn[7], line 1\u001b[0m\n\u001b[0;32m----> 1\u001b[0m \u001b[43mbar\u001b[49m\u001b[38;5;241;43m+\u001b[39;49m\u001b[38;5;241;43m1\u001b[39;49m\n",
      "\u001b[0;31mTypeError\u001b[0m: can only concatenate list (not \"int\") to list"
     ]
    }
   ],
   "source": [
    "# Python errors are (usually) descriptive and somewhat helpful\n",
    "bar+1"
   ]
  },
  {
   "cell_type": "code",
   "execution_count": 8,
   "id": "806a0deb",
   "metadata": {},
   "outputs": [
    {
     "data": {
      "text/plain": [
       "array([2, 3, 4, 5, 6])"
      ]
     },
     "execution_count": 8,
     "metadata": {},
     "output_type": "execute_result"
    }
   ],
   "source": [
    "# Let's try that again with a numpy array\n",
    "foo+1"
   ]
  },
  {
   "cell_type": "code",
   "execution_count": 9,
   "id": "23e956e6",
   "metadata": {},
   "outputs": [
    {
     "data": {
      "text/plain": [
       "array([3, 4, 5])"
      ]
     },
     "execution_count": 9,
     "metadata": {},
     "output_type": "execute_result"
    }
   ],
   "source": [
    "# Array 'slicing' is a powerful tool\n",
    "foo[2:]"
   ]
  },
  {
   "cell_type": "code",
   "execution_count": 10,
   "id": "47212f29",
   "metadata": {},
   "outputs": [
    {
     "data": {
      "text/plain": [
       "array([1, 2, 3, 4])"
      ]
     },
     "execution_count": 10,
     "metadata": {},
     "output_type": "execute_result"
    }
   ],
   "source": [
    "foo[:-1]"
   ]
  },
  {
   "cell_type": "code",
   "execution_count": 11,
   "id": "2dba1a9d",
   "metadata": {},
   "outputs": [
    {
     "data": {
      "text/plain": [
       "array([1, 3, 5])"
      ]
     },
     "execution_count": 11,
     "metadata": {},
     "output_type": "execute_result"
    }
   ],
   "source": [
    "foo[::2]"
   ]
  },
  {
   "cell_type": "code",
   "execution_count": 12,
   "id": "2373fec7",
   "metadata": {},
   "outputs": [
    {
     "data": {
      "text/plain": [
       "array([5, 4, 3, 2, 1])"
      ]
     },
     "execution_count": 12,
     "metadata": {},
     "output_type": "execute_result"
    }
   ],
   "source": [
    "foo[::-1]"
   ]
  },
  {
   "cell_type": "code",
   "execution_count": 13,
   "id": "90e27595",
   "metadata": {},
   "outputs": [
    {
     "data": {
      "text/plain": [
       "15"
      ]
     },
     "execution_count": 13,
     "metadata": {},
     "output_type": "execute_result"
    }
   ],
   "source": [
    "# Package member functions can be accessed by using a .\n",
    "np.sum(foo)"
   ]
  },
  {
   "cell_type": "code",
   "execution_count": 15,
   "id": "36cdbd97",
   "metadata": {},
   "outputs": [
    {
     "data": {
      "text/plain": [
       "3.0"
      ]
     },
     "execution_count": 15,
     "metadata": {},
     "output_type": "execute_result"
    }
   ],
   "source": [
    "np.average(foo)"
   ]
  },
  {
   "cell_type": "code",
   "execution_count": 16,
   "id": "707396ec",
   "metadata": {},
   "outputs": [],
   "source": [
    "data = np.random.normal(0,123,10000)"
   ]
  },
  {
   "cell_type": "markdown",
   "id": "c7d65a89",
   "metadata": {},
   "source": [
    "You can do a bunch of stuff just with numpy functions and numpy arrays without forloops. It is SO much faster than forloops.\n",
    "\n",
    "Task: google how to take the standard deviation of data"
   ]
  },
  {
   "cell_type": "code",
   "execution_count": null,
   "id": "48ab1de5",
   "metadata": {},
   "outputs": [],
   "source": []
  },
  {
   "cell_type": "markdown",
   "id": "ab8b39a2",
   "metadata": {},
   "source": [
    "Now let's make some plots"
   ]
  },
  {
   "cell_type": "code",
   "execution_count": 2,
   "id": "0f0031ee",
   "metadata": {},
   "outputs": [],
   "source": [
    "import matplotlib.pyplot as plt"
   ]
  },
  {
   "cell_type": "code",
   "execution_count": 19,
   "id": "8a329e1a",
   "metadata": {},
   "outputs": [
    {
     "data": {
      "image/png": "[encoded data removed]",
      "text/plain": [
       "<Figure size 640x480 with 1 Axes>"
      ]
     },
     "metadata": {},
     "output_type": "display_data"
    }
   ],
   "source": [
    "# Linspace is a helpful function for generating linear arrays\n",
    "x = np.linspace(0,10,100)\n",
    "\n",
    "plt.plot(x, np.cos(x))\n",
    "plt.show()"
   ]
  },
  {
   "cell_type": "code",
   "execution_count": 20,
   "id": "bc741a3d",
   "metadata": {},
   "outputs": [
    {
     "data": {
      "image/png": "[encoded data removed]",
      "text/plain": [
       "<Figure size 640x480 with 2 Axes>"
      ]
     },
     "metadata": {},
     "output_type": "display_data"
    }
   ],
   "source": [
    "# Subplots are useful for related graphs which need their own axes\n",
    "fig, ax = plt.subplots(2,1)\n",
    "\n",
    "# Note that we are plotting from the AXIS object, not the figure\n",
    "ax[0].plot(x, np.cos(x))\n",
    "ax[1].plot(x, np.sin(x))\n",
    "plt.show()"
   ]
  },
  {
   "cell_type": "code",
   "execution_count": 21,
   "id": "612f8dba",
   "metadata": {},
   "outputs": [
    {
     "data": {
      "image/png": "[encoded data removed]",
      "text/plain": [
       "<Figure size 640x480 with 2 Axes>"
      ]
     },
     "metadata": {},
     "output_type": "display_data"
    }
   ],
   "source": [
    "fig, ax = plt.subplots(1,2)\n",
    "ax[0].plot(x, np.cos(x))\n",
    "ax[1].plot(x, np.sin(x))\n",
    "\n",
    "# This member function is useful for outputting plots in the file format of your choosing\n",
    "plt.savefig(\"test_sinwave.pdf\")\n",
    "plt.show()"
   ]
  },
  {
   "cell_type": "code",
   "execution_count": 52,
   "id": "b5da69b8",
   "metadata": {},
   "outputs": [
    {
     "data": {
      "image/png": "[encoded data removed]",
      "text/plain": [
       "<Figure size 432x288 with 1 Axes>"
      ]
     },
     "metadata": {
      "needs_background": "light"
     },
     "output_type": "display_data"
    }
   ],
   "source": [
    "# A reminder that numpy is your friend when it comes to specific member functions\n",
    "plt.plot(x, np.exp(x))\n",
    "\n",
    "# Let's adjust some parameters to better display exponential data\n",
    "plt.yscale('log')\n",
    "plt.xlim((-10,20))\n",
    "plt.show()"
   ]
  },
  {
   "cell_type": "markdown",
   "id": "e34944e8",
   "metadata": {},
   "source": [
    "Task: Make 2 subplots. One with $x^5$ with x and y scales both logscales and y limits from 0 to 10000. Second with $\\log(x)$ and figure out how to make the line look straight."
   ]
  },
  {
   "cell_type": "code",
   "execution_count": null,
   "id": "06800a2f",
   "metadata": {},
   "outputs": [],
   "source": []
  },
  {
   "cell_type": "markdown",
   "id": "0c98c3e5",
   "metadata": {},
   "source": [
    "Now some scipy. There are SO many features, but we're going to just showcase some linear algebra and interpolation"
   ]
  },
  {
   "cell_type": "code",
   "execution_count": 24,
   "id": "32b370f7",
   "metadata": {},
   "outputs": [],
   "source": [
    "import scipy\n",
    "\n",
    "# If you don't want to load a package (for storage or runtime reasons), you can pick and choose\n",
    "# You also don't have to use the . to access member functions\n",
    "from scipy import linalg"
   ]
  },
  {
   "cell_type": "code",
   "execution_count": 25,
   "id": "75ae3368",
   "metadata": {},
   "outputs": [
    {
     "name": "stdout",
     "output_type": "stream",
     "text": [
      "[[ 0.0199745  -0.02847429  0.05397365]\n",
      " [-0.03102422  0.02294943  0.00127497]\n",
      " [ 0.06680833  0.00263493 -0.01096473]]\n"
     ]
    }
   ],
   "source": [
    "mat = np.array(((3,2,15),(3,45,20),(19,23,5)))\n",
    "\n",
    "# Lots of handy mathematical packages available for familiar operations\n",
    "inv = scipy.linalg.inv(mat)\n",
    "print(inv)"
   ]
  },
  {
   "cell_type": "code",
   "execution_count": 26,
   "id": "d4e23d27",
   "metadata": {},
   "outputs": [
    {
     "data": {
      "text/plain": [
       "array([[ 1.00000000e+00, -9.54097912e-18,  4.68375339e-17],\n",
       "       [ 3.88578059e-16,  1.00000000e+00,  6.93889390e-18],\n",
       "       [ 9.71445147e-17, -3.55618313e-17,  1.00000000e+00]])"
      ]
     },
     "execution_count": 26,
     "metadata": {},
     "output_type": "execute_result"
    }
   ],
   "source": [
    "# We can also use this handy built-in operation for matrix multiplication\n",
    "mat@inv"
   ]
  },
  {
   "cell_type": "code",
   "execution_count": 27,
   "id": "2c2c5830",
   "metadata": {},
   "outputs": [
    {
     "data": {
      "image/png": "[encoded data removed]",
      "text/plain": [
       "<Figure size 640x480 with 1 Axes>"
      ]
     },
     "metadata": {},
     "output_type": "display_data"
    }
   ],
   "source": [
    "# Let's add some random noise to a sine wave for some later interpolation\n",
    "\n",
    "# Note that we can run sin(x) here without issue... what x are we using?\n",
    "data = np.sin(x) + np.random.normal(0,0.05, len(x))\n",
    "plt.plot(data)\n",
    "plt.show()"
   ]
  },
  {
   "cell_type": "code",
   "execution_count": 28,
   "id": "1603f800",
   "metadata": {},
   "outputs": [],
   "source": [
    "# You can name imports whatever you want! Just make sure your code is readable to others...\n",
    "from scipy.interpolate import UnivariateSpline as interp"
   ]
  },
  {
   "cell_type": "code",
   "execution_count": 29,
   "id": "a8a31fcd",
   "metadata": {},
   "outputs": [
    {
     "data": {
      "image/png": "[encoded data removed]",
      "text/plain": [
       "<Figure size 640x480 with 1 Axes>"
      ]
     },
     "metadata": {},
     "output_type": "display_data"
    }
   ],
   "source": [
    "# We can interpolate data to get a better measure of the derivative \n",
    "intp1 = interp(x, data, s = 1)\n",
    "\n",
    "# Scipy will calculate the derivative for us\n",
    "deriv1 = intp1.derivative(1)\n",
    "\n",
    "# What does s do here?\n",
    "intp2 = interp(x, data, s = 0)\n",
    "\n",
    "# Plot our results - let's specify a color so we can tell what is what\n",
    "plt.scatter(x, data, s = 5)\n",
    "plt.plot(x, intp1(x),'red')\n",
    "plt.plot(x, intp2(x),'blue')\n",
    "plt.plot(x, deriv1(x),'green')\n",
    "\n",
    "plt.show()"
   ]
  },
  {
   "cell_type": "markdown",
   "id": "eec8f7e9",
   "metadata": {},
   "source": [
    "Task: Play around with \"smoothing\""
   ]
  },
  {
   "cell_type": "code",
   "execution_count": 33,
   "id": "0cb80e46",
   "metadata": {},
   "outputs": [
    {
     "data": {
      "image/png": "[encoded data removed]",
      "text/plain": [
       "<Figure size 640x480 with 1 Axes>"
      ]
     },
     "metadata": {},
     "output_type": "display_data"
    }
   ],
   "source": [
    "smoothing = 5\n",
    "intp1 = interp(x, data, s = smoothing)\n",
    "deriv1 = intp1.derivative(1)\n",
    "\n",
    "# Matplotlib can produce multiple kinds of plots, usually through a member function\n",
    "plt.scatter(x, data, s = 5)\n",
    "plt.plot(x, intp1(x),'red')\n",
    "plt.plot(x, deriv1(x),'green')\n",
    "\n",
    "# Let's give our plot some labels to tidy things up a bit\n",
    "plt.title('Interpolated and Derived Data')\n",
    "plt.xlabel('X')\n",
    "plt.ylabel('Y')\n",
    "\n",
    "\n",
    "plt.show()"
   ]
  },
  {
   "cell_type": "markdown",
   "id": "bc95f74f",
   "metadata": {},
   "source": [
    "Task: create a fake dataset of $x^2$, interpolate, and take the derivative. Compare that with a fake dataset of $2x$ by plotting both"
   ]
  },
  {
   "cell_type": "markdown",
   "id": "ca84220b",
   "metadata": {},
   "source": [
    "We're now going to learn a bit about the Pandas package, which is immensely useful for reading in and editing many types of data. We'll use Pandas to take a look at some real astronomical data and to make a figure!"
   ]
  },
  {
   "cell_type": "code",
   "execution_count": 1,
   "id": "c3c9e870",
   "metadata": {},
   "outputs": [],
   "source": [
    "# First, let's import the pandas package!\n",
    "\n",
    "import pandas as pd"
   ]
  },
  {
   "cell_type": "markdown",
   "id": "5fb4625a",
   "metadata": {},
   "source": [
    "The first step we're going to need to take is actually importing the data. I have put some data in the GitHub repo from Gaia, a space telescope operated by the European Space Agency. The data is in a .csv format--a \"comma separated values\" file. As the name suggests, a .csv file is one in which the data are separated by commas (we call these separation characters \"delimeters\"). We can read in other types of data with pandas, too (ex. Excel files, Pickle files, etc.), but csv files are very commonly used (and not just in physics!).\n",
    "\n",
    "We'll cover how to open and use some more subject-specific file types (ex. FITS files) in a later module."
   ]
  },
  {
   "cell_type": "code",
   "execution_count": 4,
   "id": "965fcc8a",
   "metadata": {},
   "outputs": [
    {
     "data": {
      "text/html": [
       "<div>\n",
       "<style scoped>\n",
       "    .dataframe tbody tr th:only-of-type {\n",
       "        vertical-align: middle;\n",
       "    }\n",
       "\n",
       "    .dataframe tbody tr th {\n",
       "        vertical-align: top;\n",
       "    }\n",
       "\n",
       "    .dataframe thead th {\n",
       "        text-align: right;\n",
       "    }\n",
       "</style>\n",
       "<table border=\"1\" class=\"dataframe\">\n",
       "  <thead>\n",
       "    <tr style=\"text-align: right;\">\n",
       "      <th></th>\n",
       "      <th>source_id</th>\n",
       "      <th>ra</th>\n",
       "      <th>dec</th>\n",
       "      <th>parallax</th>\n",
       "      <th>phot_g_mean_mag</th>\n",
       "      <th>bp_rp</th>\n",
       "      <th>logg_gspphot</th>\n",
       "      <th>teff_gspphot</th>\n",
       "      <th>mh_gspphot</th>\n",
       "    </tr>\n",
       "  </thead>\n",
       "  <tbody>\n",
       "    <tr>\n",
       "      <th>0</th>\n",
       "      <td>2097561048396353920</td>\n",
       "      <td>280.089746</td>\n",
       "      <td>37.446305</td>\n",
       "      <td>0.327914</td>\n",
       "      <td>12.992434</td>\n",
       "      <td>1.195180</td>\n",
       "      <td>2.4344</td>\n",
       "      <td>4758.6084</td>\n",
       "      <td>-0.5639</td>\n",
       "    </tr>\n",
       "    <tr>\n",
       "      <th>1</th>\n",
       "      <td>2097599153346302592</td>\n",
       "      <td>280.376845</td>\n",
       "      <td>37.915974</td>\n",
       "      <td>0.654924</td>\n",
       "      <td>12.989189</td>\n",
       "      <td>1.153990</td>\n",
       "      <td>3.6778</td>\n",
       "      <td>5161.4634</td>\n",
       "      <td>-0.1426</td>\n",
       "    </tr>\n",
       "    <tr>\n",
       "      <th>2</th>\n",
       "      <td>2097612755501835264</td>\n",
       "      <td>280.034992</td>\n",
       "      <td>38.070525</td>\n",
       "      <td>1.218305</td>\n",
       "      <td>12.722566</td>\n",
       "      <td>0.552486</td>\n",
       "      <td>4.2021</td>\n",
       "      <td>6924.7870</td>\n",
       "      <td>-0.2459</td>\n",
       "    </tr>\n",
       "    <tr>\n",
       "      <th>3</th>\n",
       "      <td>2097613584436713600</td>\n",
       "      <td>280.190985</td>\n",
       "      <td>37.996071</td>\n",
       "      <td>1.514313</td>\n",
       "      <td>12.891989</td>\n",
       "      <td>0.964052</td>\n",
       "      <td>3.9211</td>\n",
       "      <td>5380.7180</td>\n",
       "      <td>-0.0795</td>\n",
       "    </tr>\n",
       "    <tr>\n",
       "      <th>4</th>\n",
       "      <td>2097641759421959552</td>\n",
       "      <td>279.398061</td>\n",
       "      <td>37.850850</td>\n",
       "      <td>1.442972</td>\n",
       "      <td>12.606302</td>\n",
       "      <td>0.778361</td>\n",
       "      <td>3.9782</td>\n",
       "      <td>5897.6920</td>\n",
       "      <td>-0.2232</td>\n",
       "    </tr>\n",
       "  </tbody>\n",
       "</table>\n",
       "</div>"
      ],
      "text/plain": [
       "             source_id          ra        dec  parallax  phot_g_mean_mag  \\\n",
       "0  2097561048396353920  280.089746  37.446305  0.327914        12.992434   \n",
       "1  2097599153346302592  280.376845  37.915974  0.654924        12.989189   \n",
       "2  2097612755501835264  280.034992  38.070525  1.218305        12.722566   \n",
       "3  2097613584436713600  280.190985  37.996071  1.514313        12.891989   \n",
       "4  2097641759421959552  279.398061  37.850850  1.442972        12.606302   \n",
       "\n",
       "      bp_rp  logg_gspphot  teff_gspphot  mh_gspphot  \n",
       "0  1.195180        2.4344     4758.6084     -0.5639  \n",
       "1  1.153990        3.6778     5161.4634     -0.1426  \n",
       "2  0.552486        4.2021     6924.7870     -0.2459  \n",
       "3  0.964052        3.9211     5380.7180     -0.0795  \n",
       "4  0.778361        3.9782     5897.6920     -0.2232  "
      ]
     },
     "execution_count": 4,
     "metadata": {},
     "output_type": "execute_result"
    }
   ],
   "source": [
    "# Read in the csv file using the read_csv function\n",
    "# Save the data from the file as df--we'll cover why we're calling it that in a second\n",
    "df = pd.read_csv('gaia_data_pandas.csv')\n",
    "\n",
    "# Use the head function to preview the first five rows oof the data\n",
    "df.head()"
   ]
  },
  {
   "cell_type": "markdown",
   "id": "871a0bf6",
   "metadata": {},
   "source": [
    "Okay, so why did we call the data \"df\"--and why did the head function print out such a nice, clean looking table?\n",
    "\n",
    "The answer to both of these questions is DataFrames! DataFrames are a Pandas-specific object type, and you can think of them almost like Numpy arrays + a LOT of extra functionality. For one, we have all of those nice column names, with which we can index columns of the DataFrame. Note that the column names here come straight from Gaia--I'll explain what some of them mean in a bit, but feel free to ask about them later if you are curious. We also have numerical indices for each of the rows that will allow us to index by row.\n",
    "\n",
    "Let's look at an example of that:"
   ]
  },
  {
   "cell_type": "code",
   "execution_count": 5,
   "id": "fa01908a",
   "metadata": {},
   "outputs": [
    {
     "name": "stdout",
     "output_type": "stream",
     "text": [
      "The Right Ascension (RA) column of the DataFrame is:\n",
      "0         280.089746\n",
      "1         280.376845\n",
      "2         280.034992\n",
      "3         280.190985\n",
      "4         279.398061\n",
      "             ...    \n",
      "699995    168.942238\n",
      "699996    169.275706\n",
      "699997    169.190411\n",
      "699998    168.861173\n",
      "699999    169.067115\n",
      "Name: ra, Length: 700000, dtype: float64\n",
      "\n",
      "\n",
      "The second and third rows of the DataFrame:\n",
      "             source_id          ra        dec  parallax  phot_g_mean_mag  \\\n",
      "1  2097599153346302592  280.376845  37.915974  0.654924        12.989189   \n",
      "2  2097612755501835264  280.034992  38.070525  1.218305        12.722566   \n",
      "\n",
      "      bp_rp  logg_gspphot  teff_gspphot  mh_gspphot  \n",
      "1  1.153990        3.6778     5161.4634     -0.1426  \n",
      "2  0.552486        4.2021     6924.7870     -0.2459  \n"
     ]
    }
   ],
   "source": [
    "# Index and print the 'ra' column of the DataFrame\n",
    "# ra, or Right Ascension, is one of the on-sky (or celestial) coordinates that astronomers use.\n",
    "print('The Right Ascension (RA) column of the DataFrame is:')\n",
    "print(df['ra'])\n",
    "\n",
    "print()\n",
    "print()\n",
    "\n",
    "# To index a row (or in this case, multiple rows) of the DataFrame, we'll need to use the loc function.\n",
    "print('The second and third rows of the DataFrame:')\n",
    "print(df.loc[[1,2]])"
   ]
  },
  {
   "cell_type": "markdown",
   "id": "3f8599bf",
   "metadata": {},
   "source": [
    "Source ID refers to the unique number that the Gaia mission uses to identify each star that the telescope surveys. Because these are unique to each star, it might make sense to set the Gaia Source ID as the index that we use to identify rows of our DataFrame, so let's do that!"
   ]
  },
  {
   "cell_type": "code",
   "execution_count": 6,
   "id": "bf287cf2",
   "metadata": {},
   "outputs": [
    {
     "data": {
      "text/html": [
       "<div>\n",
       "<style scoped>\n",
       "    .dataframe tbody tr th:only-of-type {\n",
       "        vertical-align: middle;\n",
       "    }\n",
       "\n",
       "    .dataframe tbody tr th {\n",
       "        vertical-align: top;\n",
       "    }\n",
       "\n",
       "    .dataframe thead th {\n",
       "        text-align: right;\n",
       "    }\n",
       "</style>\n",
       "<table border=\"1\" class=\"dataframe\">\n",
       "  <thead>\n",
       "    <tr style=\"text-align: right;\">\n",
       "      <th></th>\n",
       "      <th>ra</th>\n",
       "      <th>dec</th>\n",
       "      <th>parallax</th>\n",
       "      <th>phot_g_mean_mag</th>\n",
       "      <th>bp_rp</th>\n",
       "      <th>logg_gspphot</th>\n",
       "      <th>teff_gspphot</th>\n",
       "      <th>mh_gspphot</th>\n",
       "    </tr>\n",
       "    <tr>\n",
       "      <th>source_id</th>\n",
       "      <th></th>\n",
       "      <th></th>\n",
       "      <th></th>\n",
       "      <th></th>\n",
       "      <th></th>\n",
       "      <th></th>\n",
       "      <th></th>\n",
       "      <th></th>\n",
       "    </tr>\n",
       "  </thead>\n",
       "  <tbody>\n",
       "    <tr>\n",
       "      <th>2097561048396353920</th>\n",
       "      <td>280.089746</td>\n",
       "      <td>37.446305</td>\n",
       "      <td>0.327914</td>\n",
       "      <td>12.992434</td>\n",
       "      <td>1.195180</td>\n",
       "      <td>2.4344</td>\n",
       "      <td>4758.6084</td>\n",
       "      <td>-0.5639</td>\n",
       "    </tr>\n",
       "    <tr>\n",
       "      <th>2097599153346302592</th>\n",
       "      <td>280.376845</td>\n",
       "      <td>37.915974</td>\n",
       "      <td>0.654924</td>\n",
       "      <td>12.989189</td>\n",
       "      <td>1.153990</td>\n",
       "      <td>3.6778</td>\n",
       "      <td>5161.4634</td>\n",
       "      <td>-0.1426</td>\n",
       "    </tr>\n",
       "    <tr>\n",
       "      <th>2097612755501835264</th>\n",
       "      <td>280.034992</td>\n",
       "      <td>38.070525</td>\n",
       "      <td>1.218305</td>\n",
       "      <td>12.722566</td>\n",
       "      <td>0.552486</td>\n",
       "      <td>4.2021</td>\n",
       "      <td>6924.7870</td>\n",
       "      <td>-0.2459</td>\n",
       "    </tr>\n",
       "    <tr>\n",
       "      <th>2097613584436713600</th>\n",
       "      <td>280.190985</td>\n",
       "      <td>37.996071</td>\n",
       "      <td>1.514313</td>\n",
       "      <td>12.891989</td>\n",
       "      <td>0.964052</td>\n",
       "      <td>3.9211</td>\n",
       "      <td>5380.7180</td>\n",
       "      <td>-0.0795</td>\n",
       "    </tr>\n",
       "    <tr>\n",
       "      <th>2097641759421959552</th>\n",
       "      <td>279.398061</td>\n",
       "      <td>37.850850</td>\n",
       "      <td>1.442972</td>\n",
       "      <td>12.606302</td>\n",
       "      <td>0.778361</td>\n",
       "      <td>3.9782</td>\n",
       "      <td>5897.6920</td>\n",
       "      <td>-0.2232</td>\n",
       "    </tr>\n",
       "  </tbody>\n",
       "</table>\n",
       "</div>"
      ],
      "text/plain": [
       "                             ra        dec  parallax  phot_g_mean_mag  \\\n",
       "source_id                                                               \n",
       "2097561048396353920  280.089746  37.446305  0.327914        12.992434   \n",
       "2097599153346302592  280.376845  37.915974  0.654924        12.989189   \n",
       "2097612755501835264  280.034992  38.070525  1.218305        12.722566   \n",
       "2097613584436713600  280.190985  37.996071  1.514313        12.891989   \n",
       "2097641759421959552  279.398061  37.850850  1.442972        12.606302   \n",
       "\n",
       "                        bp_rp  logg_gspphot  teff_gspphot  mh_gspphot  \n",
       "source_id                                                              \n",
       "2097561048396353920  1.195180        2.4344     4758.6084     -0.5639  \n",
       "2097599153346302592  1.153990        3.6778     5161.4634     -0.1426  \n",
       "2097612755501835264  0.552486        4.2021     6924.7870     -0.2459  \n",
       "2097613584436713600  0.964052        3.9211     5380.7180     -0.0795  \n",
       "2097641759421959552  0.778361        3.9782     5897.6920     -0.2232  "
      ]
     },
     "execution_count": 6,
     "metadata": {},
     "output_type": "execute_result"
    }
   ],
   "source": [
    "# Reset the index to the source_id column\n",
    "df.set_index(keys = 'source_id', inplace = True)\n",
    "\n",
    "# And let's take a look at the modified DataFrame.\n",
    "df.head()"
   ]
  },
  {
   "cell_type": "markdown",
   "id": "e5902a6e",
   "metadata": {},
   "source": [
    "We can also add whole new columns to the DataFrame; let's give it a try with absolute magnitude. Absolute magnitude is a measure of how bright a star is, but the Gaia catalog only gives us apparent magnitude (the 'phot_g_mean_mag' column), which is also a function of distance. We can do a little math to use parallax to get distance, and then we can use that and phot_g_mean_mag to get absolute magnitude and add it to the DataFrame."
   ]
  },
  {
   "cell_type": "code",
   "execution_count": 7,
   "id": "a191ad0b",
   "metadata": {},
   "outputs": [
    {
     "name": "stderr",
     "output_type": "stream",
     "text": [
      "/Users/sarahkane/miniconda3/envs/umap/lib/python3.10/site-packages/pandas/core/arraylike.py:402: RuntimeWarning: invalid value encountered in log10\n",
      "  result = getattr(ufunc, method)(*inputs, **kwargs)\n"
     ]
    },
    {
     "data": {
      "text/html": [
       "<div>\n",
       "<style scoped>\n",
       "    .dataframe tbody tr th:only-of-type {\n",
       "        vertical-align: middle;\n",
       "    }\n",
       "\n",
       "    .dataframe tbody tr th {\n",
       "        vertical-align: top;\n",
       "    }\n",
       "\n",
       "    .dataframe thead th {\n",
       "        text-align: right;\n",
       "    }\n",
       "</style>\n",
       "<table border=\"1\" class=\"dataframe\">\n",
       "  <thead>\n",
       "    <tr style=\"text-align: right;\">\n",
       "      <th></th>\n",
       "      <th>ra</th>\n",
       "      <th>dec</th>\n",
       "      <th>parallax</th>\n",
       "      <th>phot_g_mean_mag</th>\n",
       "      <th>bp_rp</th>\n",
       "      <th>logg_gspphot</th>\n",
       "      <th>teff_gspphot</th>\n",
       "      <th>mh_gspphot</th>\n",
       "      <th>abs_mag</th>\n",
       "    </tr>\n",
       "    <tr>\n",
       "      <th>source_id</th>\n",
       "      <th></th>\n",
       "      <th></th>\n",
       "      <th></th>\n",
       "      <th></th>\n",
       "      <th></th>\n",
       "      <th></th>\n",
       "      <th></th>\n",
       "      <th></th>\n",
       "      <th></th>\n",
       "    </tr>\n",
       "  </thead>\n",
       "  <tbody>\n",
       "    <tr>\n",
       "      <th>2097561048396353920</th>\n",
       "      <td>280.089746</td>\n",
       "      <td>37.446305</td>\n",
       "      <td>0.327914</td>\n",
       "      <td>12.992434</td>\n",
       "      <td>1.195180</td>\n",
       "      <td>2.4344</td>\n",
       "      <td>4758.6084</td>\n",
       "      <td>-0.5639</td>\n",
       "      <td>0.571233</td>\n",
       "    </tr>\n",
       "    <tr>\n",
       "      <th>2097599153346302592</th>\n",
       "      <td>280.376845</td>\n",
       "      <td>37.915974</td>\n",
       "      <td>0.654924</td>\n",
       "      <td>12.989189</td>\n",
       "      <td>1.153990</td>\n",
       "      <td>3.6778</td>\n",
       "      <td>5161.4634</td>\n",
       "      <td>-0.1426</td>\n",
       "      <td>2.070144</td>\n",
       "    </tr>\n",
       "    <tr>\n",
       "      <th>2097612755501835264</th>\n",
       "      <td>280.034992</td>\n",
       "      <td>38.070525</td>\n",
       "      <td>1.218305</td>\n",
       "      <td>12.722566</td>\n",
       "      <td>0.552486</td>\n",
       "      <td>4.2021</td>\n",
       "      <td>6924.7870</td>\n",
       "      <td>-0.2459</td>\n",
       "      <td>3.151347</td>\n",
       "    </tr>\n",
       "    <tr>\n",
       "      <th>2097613584436713600</th>\n",
       "      <td>280.190985</td>\n",
       "      <td>37.996071</td>\n",
       "      <td>1.514313</td>\n",
       "      <td>12.891989</td>\n",
       "      <td>0.964052</td>\n",
       "      <td>3.9211</td>\n",
       "      <td>5380.7180</td>\n",
       "      <td>-0.0795</td>\n",
       "      <td>3.793067</td>\n",
       "    </tr>\n",
       "    <tr>\n",
       "      <th>2097641759421959552</th>\n",
       "      <td>279.398061</td>\n",
       "      <td>37.850850</td>\n",
       "      <td>1.442972</td>\n",
       "      <td>12.606302</td>\n",
       "      <td>0.778361</td>\n",
       "      <td>3.9782</td>\n",
       "      <td>5897.6920</td>\n",
       "      <td>-0.2232</td>\n",
       "      <td>3.402591</td>\n",
       "    </tr>\n",
       "  </tbody>\n",
       "</table>\n",
       "</div>"
      ],
      "text/plain": [
       "                             ra        dec  parallax  phot_g_mean_mag  \\\n",
       "source_id                                                               \n",
       "2097561048396353920  280.089746  37.446305  0.327914        12.992434   \n",
       "2097599153346302592  280.376845  37.915974  0.654924        12.989189   \n",
       "2097612755501835264  280.034992  38.070525  1.218305        12.722566   \n",
       "2097613584436713600  280.190985  37.996071  1.514313        12.891989   \n",
       "2097641759421959552  279.398061  37.850850  1.442972        12.606302   \n",
       "\n",
       "                        bp_rp  logg_gspphot  teff_gspphot  mh_gspphot  \\\n",
       "source_id                                                               \n",
       "2097561048396353920  1.195180        2.4344     4758.6084     -0.5639   \n",
       "2097599153346302592  1.153990        3.6778     5161.4634     -0.1426   \n",
       "2097612755501835264  0.552486        4.2021     6924.7870     -0.2459   \n",
       "2097613584436713600  0.964052        3.9211     5380.7180     -0.0795   \n",
       "2097641759421959552  0.778361        3.9782     5897.6920     -0.2232   \n",
       "\n",
       "                      abs_mag  \n",
       "source_id                      \n",
       "2097561048396353920  0.571233  \n",
       "2097599153346302592  2.070144  \n",
       "2097612755501835264  3.151347  \n",
       "2097613584436713600  3.793067  \n",
       "2097641759421959552  3.402591  "
      ]
     },
     "execution_count": 7,
     "metadata": {},
     "output_type": "execute_result"
    }
   ],
   "source": [
    "# Add a new column for absolute magnitude\n",
    "# Calculate absolute magnitude from the phot_g_mean_mag and parallax columns of the DataFrame\n",
    "# Note that we can do math with DataFrames just like with Numpy arrays\n",
    "df['abs_mag'] = df['phot_g_mean_mag']+5*(1+np.log10(df['parallax']/1000))\n",
    "\n",
    "# Don't worry about the warning message (though that's probably bad advice in general)...\n",
    "# When working with real data, it's inevitable that we'll get some funny values (ex. NaNs),\n",
    "# and the log10 function just can't process them.\n",
    "\n",
    "# And let's take a look at the DataFrame again!\n",
    "df.head()"
   ]
  },
  {
   "cell_type": "markdown",
   "id": "3adf0a1f",
   "metadata": {},
   "source": [
    "We can also take a look at some nicely computed details about our data..."
   ]
  },
  {
   "cell_type": "code",
   "execution_count": 8,
   "id": "0a7e6423",
   "metadata": {},
   "outputs": [
    {
     "data": {
      "text/html": [
       "<div>\n",
       "<style scoped>\n",
       "    .dataframe tbody tr th:only-of-type {\n",
       "        vertical-align: middle;\n",
       "    }\n",
       "\n",
       "    .dataframe tbody tr th {\n",
       "        vertical-align: top;\n",
       "    }\n",
       "\n",
       "    .dataframe thead th {\n",
       "        text-align: right;\n",
       "    }\n",
       "</style>\n",
       "<table border=\"1\" class=\"dataframe\">\n",
       "  <thead>\n",
       "    <tr style=\"text-align: right;\">\n",
       "      <th></th>\n",
       "      <th>ra</th>\n",
       "      <th>dec</th>\n",
       "      <th>parallax</th>\n",
       "      <th>phot_g_mean_mag</th>\n",
       "      <th>bp_rp</th>\n",
       "      <th>logg_gspphot</th>\n",
       "      <th>teff_gspphot</th>\n",
       "      <th>mh_gspphot</th>\n",
       "      <th>abs_mag</th>\n",
       "    </tr>\n",
       "  </thead>\n",
       "  <tbody>\n",
       "    <tr>\n",
       "      <th>count</th>\n",
       "      <td>700000.000000</td>\n",
       "      <td>700000.000000</td>\n",
       "      <td>698085.000000</td>\n",
       "      <td>699997.000000</td>\n",
       "      <td>699933.000000</td>\n",
       "      <td>438434.000000</td>\n",
       "      <td>438434.000000</td>\n",
       "      <td>438434.000000</td>\n",
       "      <td>696046.000000</td>\n",
       "    </tr>\n",
       "    <tr>\n",
       "      <th>mean</th>\n",
       "      <td>190.205385</td>\n",
       "      <td>-16.907643</td>\n",
       "      <td>1.985653</td>\n",
       "      <td>11.986418</td>\n",
       "      <td>1.350084</td>\n",
       "      <td>3.459792</td>\n",
       "      <td>5626.925674</td>\n",
       "      <td>-0.250092</td>\n",
       "      <td>2.095767</td>\n",
       "    </tr>\n",
       "    <tr>\n",
       "      <th>std</th>\n",
       "      <td>97.714225</td>\n",
       "      <td>38.917024</td>\n",
       "      <td>3.720846</td>\n",
       "      <td>1.129495</td>\n",
       "      <td>0.866466</td>\n",
       "      <td>1.035736</td>\n",
       "      <td>1394.966627</td>\n",
       "      <td>0.373252</td>\n",
       "      <td>2.334695</td>\n",
       "    </tr>\n",
       "    <tr>\n",
       "      <th>min</th>\n",
       "      <td>0.000851</td>\n",
       "      <td>-89.711779</td>\n",
       "      <td>-7.908772</td>\n",
       "      <td>3.175233</td>\n",
       "      <td>-0.215045</td>\n",
       "      <td>-0.499800</td>\n",
       "      <td>3000.040300</td>\n",
       "      <td>-4.149900</td>\n",
       "      <td>-17.899375</td>\n",
       "    </tr>\n",
       "    <tr>\n",
       "      <th>25%</th>\n",
       "      <td>109.445122</td>\n",
       "      <td>-47.200190</td>\n",
       "      <td>0.474935</td>\n",
       "      <td>11.338479</td>\n",
       "      <td>0.825097</td>\n",
       "      <td>2.699500</td>\n",
       "      <td>4834.841050</td>\n",
       "      <td>-0.429000</td>\n",
       "      <td>0.535757</td>\n",
       "    </tr>\n",
       "    <tr>\n",
       "      <th>50%</th>\n",
       "      <td>192.403618</td>\n",
       "      <td>-21.585097</td>\n",
       "      <td>1.081410</td>\n",
       "      <td>12.181755</td>\n",
       "      <td>1.188556</td>\n",
       "      <td>3.932700</td>\n",
       "      <td>5497.138000</td>\n",
       "      <td>-0.209200</td>\n",
       "      <td>1.868930</td>\n",
       "    </tr>\n",
       "    <tr>\n",
       "      <th>75%</th>\n",
       "      <td>279.813788</td>\n",
       "      <td>9.165399</td>\n",
       "      <td>2.252918</td>\n",
       "      <td>12.797453</td>\n",
       "      <td>1.527756</td>\n",
       "      <td>4.239000</td>\n",
       "      <td>5993.916100</td>\n",
       "      <td>-0.039300</td>\n",
       "      <td>3.719212</td>\n",
       "    </tr>\n",
       "    <tr>\n",
       "      <th>max</th>\n",
       "      <td>359.998738</td>\n",
       "      <td>89.440939</td>\n",
       "      <td>336.026602</td>\n",
       "      <td>15.006116</td>\n",
       "      <td>7.715935</td>\n",
       "      <td>5.139900</td>\n",
       "      <td>37485.105000</td>\n",
       "      <td>0.800000</td>\n",
       "      <td>13.298385</td>\n",
       "    </tr>\n",
       "  </tbody>\n",
       "</table>\n",
       "</div>"
      ],
      "text/plain": [
       "                  ra            dec       parallax  phot_g_mean_mag  \\\n",
       "count  700000.000000  700000.000000  698085.000000    699997.000000   \n",
       "mean      190.205385     -16.907643       1.985653        11.986418   \n",
       "std        97.714225      38.917024       3.720846         1.129495   \n",
       "min         0.000851     -89.711779      -7.908772         3.175233   \n",
       "25%       109.445122     -47.200190       0.474935        11.338479   \n",
       "50%       192.403618     -21.585097       1.081410        12.181755   \n",
       "75%       279.813788       9.165399       2.252918        12.797453   \n",
       "max       359.998738      89.440939     336.026602        15.006116   \n",
       "\n",
       "               bp_rp   logg_gspphot   teff_gspphot     mh_gspphot  \\\n",
       "count  699933.000000  438434.000000  438434.000000  438434.000000   \n",
       "mean        1.350084       3.459792    5626.925674      -0.250092   \n",
       "std         0.866466       1.035736    1394.966627       0.373252   \n",
       "min        -0.215045      -0.499800    3000.040300      -4.149900   \n",
       "25%         0.825097       2.699500    4834.841050      -0.429000   \n",
       "50%         1.188556       3.932700    5497.138000      -0.209200   \n",
       "75%         1.527756       4.239000    5993.916100      -0.039300   \n",
       "max         7.715935       5.139900   37485.105000       0.800000   \n",
       "\n",
       "             abs_mag  \n",
       "count  696046.000000  \n",
       "mean        2.095767  \n",
       "std         2.334695  \n",
       "min       -17.899375  \n",
       "25%         0.535757  \n",
       "50%         1.868930  \n",
       "75%         3.719212  \n",
       "max        13.298385  "
      ]
     },
     "execution_count": 8,
     "metadata": {},
     "output_type": "execute_result"
    }
   ],
   "source": [
    "# Print out statistics on each of the columns in the DataFrame.\n",
    "df.describe()"
   ]
  },
  {
   "cell_type": "markdown",
   "id": "5fc68acf",
   "metadata": {},
   "source": [
    "There are a LOT of other things we can do with Pandas DataFrames. For instance, if we had another DatFrame with Gaia data, we could merge the two DataFrames such that rows with the same Source IDs (thus referring to the same stars) would be combined. We could sort the DataFrame by one of the columns, impose cuts on the data, and much more! When in doubt, Google \"Pandas\" + whatever you want to do with your data, and there is probably a way t\n",
    "\n",
    "For now, we can now use this data to make a version of one of the most famous types of plots in astronomy--a Hertzsprung-Russel (H-R) Diagram! H-R Diagrams are plots of absolute magnitude versus color (which is 'bp_rp' in this data--Blue Photometry - Red Photometry).\n",
    "\n",
    "We'll have to do a little modification or cleaning up of the data to get rid of NaN (missing) values before we can plot it. I am going to plot the H-R Diagram as a 2-D histogram because 1.) it is prettier than just a scatter plot, and 2.) it is more informative with regards to which parts of the H-R diagram are most populated in our sample."
   ]
  },
  {
   "cell_type": "code",
   "execution_count": null,
   "id": "58f38dc9",
   "metadata": {},
   "outputs": [],
   "source": []
  },
  {
   "cell_type": "markdown",
   "id": "4aab28a2",
   "metadata": {},
   "source": [
    "There is so much more, like astropy for a bunch of astrophysics stuff and sklearn for a bunch of machine learning stuff. Go wild!"
   ]
  },
  {
   "cell_type": "code",
   "execution_count": null,
   "id": "5d30dbb4",
   "metadata": {},
   "outputs": [],
   "source": []
  }
 ],
 "metadata": {
  "kernelspec": {
   "display_name": "Python 3 (ipykernel)",
   "language": "python",
   "name": "python3"
  },
  "language_info": {
   "codemirror_mode": {
    "name": "ipython",
    "version": 3
   },
   "file_extension": ".py",
   "mimetype": "text/x-python",
   "name": "python",
   "nbconvert_exporter": "python",
   "pygments_lexer": "ipython3",
   "version": "3.10.9"
  }
 },
 "nbformat": 4,
 "nbformat_minor": 5
}
