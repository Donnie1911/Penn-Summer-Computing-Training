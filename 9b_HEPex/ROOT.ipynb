{
 "cells": [
  {
   "attachments": {},
   "cell_type": "markdown",
   "metadata": {
    "slideshow": {
     "slide_type": "slide"
    }
   },
   "source": [
    "# ROOT\n",
    "\n",
    "Display this notebook in slidshow form by running\n",
    "```\n",
    "jupyter nbconvert ROOT.ipynb --to slides --post serve\n",
    "```"
   ]
  },
  {
   "attachments": {},
   "cell_type": "markdown",
   "metadata": {
    "slideshow": {
     "slide_type": "slide"
    }
   },
   "source": [
    "### Starting up pyROOT\n",
    "\n",
    "Install ROOT from [https://root.cern/install/](https://root.cern/install/)"
   ]
  },
  {
   "cell_type": "code",
   "execution_count": 2,
   "metadata": {},
   "outputs": [
    {
     "name": "stdout",
     "output_type": "stream",
     "text": [
      "Welcome to JupyROOT 6.28/04\n"
     ]
    }
   ],
   "source": [
    "import ROOT"
   ]
  },
  {
   "attachments": {},
   "cell_type": "markdown",
   "metadata": {
    "slideshow": {
     "slide_type": "slide"
    }
   },
   "source": [
    "## Data Processing\n",
    "\n",
    "* ROOT is a database framework used by HEP\n",
    "* Optimized for storing and processing independent *events*\n",
    "* C++ library with python interface\n",
    "\n",
    "p.s. when processing data, you should use C++ if you know it. Python is way slower, though is the better choice when plotting. We'll use python for this tutorial for simplicity. "
   ]
  },
  {
   "attachments": {},
   "cell_type": "markdown",
   "metadata": {
    "slideshow": {
     "slide_type": "slide"
    }
   },
   "source": [
    "### Open a test file\n",
    "\n",
    "This file is included in the git repo"
   ]
  },
  {
   "cell_type": "code",
   "execution_count": 6,
   "metadata": {},
   "outputs": [
    {
     "name": "stdout",
     "output_type": "stream",
     "text": [
      "TFile**\t\ttest.root\t\n",
      " TFile*\t\ttest.root\t\n",
      "  KEY: TTree\ttree;1\ttree\n"
     ]
    }
   ],
   "source": [
    "in_file = ROOT.TFile('test.root')\n",
    "in_file.ls()"
   ]
  },
  {
   "attachments": {},
   "cell_type": "markdown",
   "metadata": {},
   "source": [
    "Contains a single `TTree` called `tree`"
   ]
  },
  {
   "attachments": {},
   "cell_type": "markdown",
   "metadata": {
    "slideshow": {
     "slide_type": "slide"
    }
   },
   "source": [
    "### TTrees\n",
    "\n",
    "* The main data storage class in ROOT is the TTree\n",
    "* Can think of as a table\n",
    "* Each column (TBranch) stores some data type\n",
    "* Each row (entry) represents one event\n",
    "\n",
    "| Entry | Animal | Legs |\n",
    "| :-- | :-- | :-- |\n",
    "| 0 | Whale | 0 |\n",
    "| 1 | Human | 2 |\n",
    "| 2 | Dog | 4 |"
   ]
  },
  {
   "cell_type": "code",
   "execution_count": 8,
   "metadata": {},
   "outputs": [
    {
     "data": {
      "text/plain": [
       "156"
      ]
     },
     "execution_count": 8,
     "metadata": {},
     "output_type": "execute_result"
    }
   ],
   "source": [
    "tree = in_file.Get('tree')\n",
    "tree.GetEntries()"
   ]
  },
  {
   "attachments": {},
   "cell_type": "markdown",
   "metadata": {
    "slideshow": {
     "slide_type": "slide"
    }
   },
   "source": [
    "### TTrees (2)\n",
    "\n",
    "List contents of tree:"
   ]
  },
  {
   "cell_type": "code",
   "execution_count": null,
   "metadata": {},
   "outputs": [],
   "source": [
    "tree.Print()"
   ]
  },
  {
   "attachments": {},
   "cell_type": "markdown",
   "metadata": {},
   "source": [
    "```\n",
    "******************************************************************************\n",
    "*Tree    :tree      : tree                                                   *\n",
    "*Entries :      156 : Total =           30015 bytes  File  Size =      17696 *\n",
    "*        :          : Tree compression factor =   1.08                       *\n",
    "******************************************************************************\n",
    "*Br    0 :sample    : string                                                 *\n",
    "*Entries :      156 : Total  Size=       1666 bytes  File Size  =        392 *\n",
    "*Baskets :        1 : Basket Size=      32000 bytes  Compression=   2.99     *\n",
    "*............................................................................*\n",
    "*Br    1 :weight    : weight/F                                               *\n",
    "*Entries :      156 : Total  Size=       1186 bytes  File Size  =        690 *\n",
    "*Baskets :        1 : Basket Size=      32000 bytes  Compression=   1.01     *\n",
    "*............................................................................*\n",
    "```"
   ]
  },
  {
   "attachments": {},
   "cell_type": "markdown",
   "metadata": {
    "slideshow": {
     "slide_type": "slide"
    }
   },
   "source": [
    "### TTrees (3)\n",
    "\n",
    "Loop over tree contents:"
   ]
  },
  {
   "cell_type": "code",
   "execution_count": 18,
   "metadata": {},
   "outputs": [
    {
     "name": "stdout",
     "output_type": "stream",
     "text": [
      "0 WW 0.15749430656433105\n",
      "1 WW 0.1984470635652542\n",
      "2 WW 0.14358942210674286\n",
      "3 WW 0.22988080978393555\n",
      "4 WW 0.23132875561714172\n"
     ]
    }
   ],
   "source": [
    "for entry,event in enumerate(tree):\n",
    "    if entry >= 5: break\n",
    "    print(entry, event.sample, event.weight)"
   ]
  },
  {
   "attachments": {},
   "cell_type": "markdown",
   "metadata": {
    "slideshow": {
     "slide_type": "slide"
    }
   },
   "source": [
    "### Exercise 1\n",
    "\n",
    "* Note the branch `truth_lep1_pdgId`\n",
    "* This is the pdgId of a lepton in each event (11 = e, 13 = mu, 15 = tau)\n",
    "* Count the number of occurences of each lepton"
   ]
  },
  {
   "cell_type": "code",
   "execution_count": 29,
   "metadata": {},
   "outputs": [],
   "source": [
    "# fill me!"
   ]
  },
  {
   "attachments": {},
   "cell_type": "markdown",
   "metadata": {
    "slideshow": {
     "slide_type": "fragment"
    }
   },
   "source": [
    "* Answer: 74 electron, 75 muon, 7 tau"
   ]
  },
  {
   "attachments": {},
   "cell_type": "markdown",
   "metadata": {
    "slideshow": {
     "slide_type": "slide"
    }
   },
   "source": [
    "### Exercise 2\n",
    "\n",
    "* Write a function that returns the mass of the `lep1`. Take `event` as an argument.\n",
    "* Use the function to print the entry number and the mass for the 7 tau events.\n",
    "* Hint 1: Create a [TLorentzVector](https://root.cern.ch/doc/master/classTLorentzVector.html) with `ROOT.TLorentzVector(px, py, pz, e)`\n",
    "* Hint 2: Search the documentation for how to retrieve the mass"
   ]
  },
  {
   "cell_type": "code",
   "execution_count": 30,
   "metadata": {},
   "outputs": [],
   "source": [
    "def truth_lep1_mass(event):\n",
    "    '''\n",
    "    Gets the mass of 'truth_lep1' from an event in our test file.\n",
    "    '''\n",
    "    pass # TODO\n",
    "\n",
    "# implement me!"
   ]
  },
  {
   "attachments": {},
   "cell_type": "markdown",
   "metadata": {},
   "source": [
    "Optional advanced exercise: generalize the function to any of the objects in the file"
   ]
  },
  {
   "attachments": {},
   "cell_type": "markdown",
   "metadata": {
    "slideshow": {
     "slide_type": "slide"
    }
   },
   "source": [
    "Answer: \n",
    "```\n",
    "10 1.777402522020421\n",
    "50 1.7730776138898674\n",
    "56 1.777790404945941\n",
    "105 1.7773254352322867\n",
    "116 1.777033892011321\n",
    "127 1.7769968885935143\n",
    "132 1.7777922133134614\n",
    "```"
   ]
  },
  {
   "attachments": {},
   "cell_type": "markdown",
   "metadata": {
    "slideshow": {
     "slide_type": "fragment"
    }
   },
   "source": [
    "Advanced exercise solution:"
   ]
  },
  {
   "cell_type": "code",
   "execution_count": null,
   "metadata": {},
   "outputs": [],
   "source": [
    "def mass(event, object):\n",
    "    '''\n",
    "    Gets the mass of an object from an event in our test file.\n",
    "    @param object \n",
    "        The object name prefix, like 'truth_lep1'.\n",
    "    '''\n",
    "    par_names = ['px', 'py', 'pz', 'e']\n",
    "    pars = [getattr(event, f'{object}_{x}') for x in par_names]\n",
    "    v = ROOT.TLorentzVector(*pars)\n",
    "    return v.M()"
   ]
  }
 ],
 "metadata": {
  "kernelspec": {
   "display_name": "Python 3",
   "language": "python",
   "name": "python3"
  },
  "language_info": {
   "codemirror_mode": {
    "name": "ipython",
    "version": 3
   },
   "file_extension": ".py",
   "mimetype": "text/x-python",
   "name": "python",
   "nbconvert_exporter": "python",
   "pygments_lexer": "ipython3",
   "version": "3.9.6"
  },
  "orig_nbformat": 4
 },
 "nbformat": 4,
 "nbformat_minor": 2
}
