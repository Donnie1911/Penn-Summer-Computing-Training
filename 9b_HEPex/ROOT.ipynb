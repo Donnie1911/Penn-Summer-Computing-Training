{
 "cells": [
  {
   "attachments": {},
   "cell_type": "markdown",
   "metadata": {
    "slideshow": {
     "slide_type": "slide"
    }
   },
   "source": [
    "# ROOT Data Parsing\n",
    "\n",
    "Display this notebook in slidshow form by running\n",
    "```\n",
    "jupyter nbconvert ROOT.ipynb --to slides --post serve\n",
    "```"
   ]
  },
  {
   "attachments": {},
   "cell_type": "markdown",
   "metadata": {
    "slideshow": {
     "slide_type": "slide"
    }
   },
   "source": [
    "### Starting up pyROOT\n",
    "\n",
    "Install ROOT from [https://root.cern/install/](https://root.cern/install/)"
   ]
  },
  {
   "cell_type": "code",
   "execution_count": 1,
   "metadata": {},
   "outputs": [
    {
     "name": "stdout",
     "output_type": "stream",
     "text": [
      "Welcome to JupyROOT 6.28/04\n"
     ]
    }
   ],
   "source": [
    "import ROOT"
   ]
  },
  {
   "attachments": {},
   "cell_type": "markdown",
   "metadata": {
    "slideshow": {
     "slide_type": "slide"
    }
   },
   "source": [
    "## Data Processing\n",
    "\n",
    "* ROOT is a database framework used by HEP\n",
    "* Optimized for storing and processing independent *events*\n",
    "* C++ library with python interface\n",
    "\n",
    "p.s. when processing data, you should use C++ if you know it. Python is way slower, though is the better choice when plotting. We'll use python for this tutorial for simplicity. "
   ]
  },
  {
   "attachments": {},
   "cell_type": "markdown",
   "metadata": {
    "slideshow": {
     "slide_type": "slide"
    }
   },
   "source": [
    "### Open a test file\n",
    "\n",
    "This file is included in the git repo"
   ]
  },
  {
   "cell_type": "code",
   "execution_count": 6,
   "metadata": {},
   "outputs": [
    {
     "name": "stdout",
     "output_type": "stream",
     "text": [
      "Name: test.root Title: \n",
      "TFile**\t\ttest.root\t\n",
      " TFile*\t\ttest.root\t\n",
      "  KEY: TTree\ttree;1\ttree\n"
     ]
    }
   ],
   "source": [
    "in_file = ROOT.TFile('test.root')\n",
    "in_file.ls()"
   ]
  },
  {
   "attachments": {},
   "cell_type": "markdown",
   "metadata": {
    "slideshow": {
     "slide_type": "slide"
    }
   },
   "source": [
    "### TTrees\n",
    "\n",
    "* The main data storage class in ROOT is the TTree\n",
    "* Can think of as a table:\n",
    "  * Each column (TBranch) stores some data type\n",
    "  * Each row (entry) represents one event\n",
    "\n",
    "| Entry | Animal | Legs |\n",
    "| :-- | :-- | :-- |\n",
    "| 0 | Whale | 0 |\n",
    "| 1 | Human | 2 |\n",
    "| 2 | Dog | 4 |"
   ]
  },
  {
   "cell_type": "code",
   "execution_count": null,
   "metadata": {},
   "outputs": [],
   "source": []
  }
 ],
 "metadata": {
  "kernelspec": {
   "display_name": "Python 3",
   "language": "python",
   "name": "python3"
  },
  "language_info": {
   "codemirror_mode": {
    "name": "ipython",
    "version": 3
   },
   "file_extension": ".py",
   "mimetype": "text/x-python",
   "name": "python",
   "nbconvert_exporter": "python",
   "pygments_lexer": "ipython3",
   "version": "3.9.6"
  },
  "orig_nbformat": 4
 },
 "nbformat": 4,
 "nbformat_minor": 2
}
