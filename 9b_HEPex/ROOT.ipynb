{
 "cells": [
  {
   "attachments": {},
   "cell_type": "markdown",
   "metadata": {
    "slideshow": {
     "slide_type": "slide"
    }
   },
   "source": [
    "# ROOT\n",
    "\n",
    "Display this notebook in slidshow form by running\n",
    "```\n",
    "jupyter nbconvert ROOT.ipynb --to slides --post serve\n",
    "```"
   ]
  },
  {
   "attachments": {},
   "cell_type": "markdown",
   "metadata": {
    "slideshow": {
     "slide_type": "slide"
    }
   },
   "source": [
    "### Starting up pyROOT\n",
    "\n",
    "Install ROOT from [https://root.cern/install/](https://root.cern/install/)"
   ]
  },
  {
   "cell_type": "code",
   "execution_count": 1,
   "metadata": {},
   "outputs": [
    {
     "name": "stdout",
     "output_type": "stream",
     "text": [
      "Welcome to JupyROOT 6.28/04\n"
     ]
    }
   ],
   "source": [
    "import ROOT"
   ]
  },
  {
   "attachments": {},
   "cell_type": "markdown",
   "metadata": {
    "slideshow": {
     "slide_type": "slide"
    }
   },
   "source": [
    "## Data Processing\n",
    "\n",
    "* ROOT is a database framework used by HEP\n",
    "* Optimized for storing and processing independent *events*\n",
    "* C++ library with python interface\n",
    "\n",
    "p.s. when processing data, you should use C++ if you know it. Python is way slower, though is the better choice when plotting. We'll use python for this tutorial for simplicity. "
   ]
  },
  {
   "attachments": {},
   "cell_type": "markdown",
   "metadata": {
    "slideshow": {
     "slide_type": "slide"
    }
   },
   "source": [
    "### Open a test file\n",
    "\n",
    "This file is included in the git repo"
   ]
  },
  {
   "cell_type": "code",
   "execution_count": 2,
   "metadata": {},
   "outputs": [
    {
     "name": "stdout",
     "output_type": "stream",
     "text": [
      "TFile**\t\ttest.root\t\n",
      " TFile*\t\ttest.root\t\n",
      "  KEY: TTree\ttree;1\ttree\n"
     ]
    }
   ],
   "source": [
    "in_file = ROOT.TFile('test.root')\n",
    "in_file.ls()"
   ]
  },
  {
   "attachments": {},
   "cell_type": "markdown",
   "metadata": {},
   "source": [
    "Contains a single `TTree` called `tree`"
   ]
  },
  {
   "attachments": {},
   "cell_type": "markdown",
   "metadata": {
    "slideshow": {
     "slide_type": "slide"
    }
   },
   "source": [
    "### TTrees\n",
    "\n",
    "* The main data storage class in ROOT is the TTree\n",
    "* Can think of as a table\n",
    "* Each column (TBranch) stores some data type\n",
    "* Each row (entry) represents one event\n",
    "\n",
    "| Entry | Animal | Legs |\n",
    "| :-- | :-- | :-- |\n",
    "| 0 | Whale | 0 |\n",
    "| 1 | Human | 2 |\n",
    "| 2 | Dog | 4 |"
   ]
  },
  {
   "cell_type": "code",
   "execution_count": 3,
   "metadata": {},
   "outputs": [
    {
     "data": {
      "text/plain": [
       "156"
      ]
     },
     "execution_count": 3,
     "metadata": {},
     "output_type": "execute_result"
    }
   ],
   "source": [
    "tree = in_file.Get('tree')\n",
    "tree.GetEntries()"
   ]
  },
  {
   "attachments": {},
   "cell_type": "markdown",
   "metadata": {
    "slideshow": {
     "slide_type": "slide"
    }
   },
   "source": [
    "### TTrees (2)\n",
    "\n",
    "List contents of tree:"
   ]
  },
  {
   "cell_type": "code",
   "execution_count": 4,
   "metadata": {},
   "outputs": [
    {
     "name": "stdout",
     "output_type": "stream",
     "text": [
      "******************************************************************************\n",
      "*Tree    :tree      : tree                                                   *\n",
      "*Entries :      156 : Total =           30015 bytes  File  Size =      17696 *\n",
      "*        :          : Tree compression factor =   1.08                       *\n",
      "******************************************************************************\n",
      "*Br    0 :sample    : string                                                 *\n",
      "*Entries :      156 : Total  Size=       1666 bytes  File Size  =        392 *\n",
      "*Baskets :        1 : Basket Size=      32000 bytes  Compression=   2.99     *\n",
      "*............................................................................*\n",
      "*Br    1 :weight    : weight/F                                               *\n",
      "*Entries :      156 : Total  Size=       1186 bytes  File Size  =        690 *\n",
      "*Baskets :        1 : Basket Size=      32000 bytes  Compression=   1.01     *\n",
      "*............................................................................*\n",
      "*Br    2 :truth_lep1_px : truth_lep1_px/F                                    *\n",
      "*Entries :      156 : Total  Size=       1221 bytes  File Size  =        704 *\n",
      "*Baskets :        1 : Basket Size=      32000 bytes  Compression=   1.00     *\n",
      "*............................................................................*\n",
      "*Br    3 :truth_lep1_py : truth_lep1_py/F                                    *\n",
      "*Entries :      156 : Total  Size=       1221 bytes  File Size  =        704 *\n",
      "*Baskets :        1 : Basket Size=      32000 bytes  Compression=   1.00     *\n",
      "*............................................................................*\n",
      "*Br    4 :truth_lep1_pz : truth_lep1_pz/F                                    *\n",
      "*Entries :      156 : Total  Size=       1221 bytes  File Size  =        704 *\n",
      "*Baskets :        1 : Basket Size=      32000 bytes  Compression=   1.00     *\n",
      "*............................................................................*\n",
      "*Br    5 :truth_lep1_e : truth_lep1_e/F                                      *\n",
      "*Entries :      156 : Total  Size=       1216 bytes  File Size  =        699 *\n",
      "*Baskets :        1 : Basket Size=      32000 bytes  Compression=   1.01     *\n",
      "*............................................................................*\n",
      "*Br    6 :truth_lep1_pdgId : truth_lep1_pdgId/I                              *\n",
      "*Entries :      156 : Total  Size=       1236 bytes  File Size  =        199 *\n",
      "*Baskets :        1 : Basket Size=      32000 bytes  Compression=   3.55     *\n",
      "*............................................................................*\n",
      "*Br    7 :truth_lep2_px : truth_lep2_px/F                                    *\n",
      "*Entries :      156 : Total  Size=       1221 bytes  File Size  =        704 *\n",
      "*Baskets :        1 : Basket Size=      32000 bytes  Compression=   1.00     *\n",
      "*............................................................................*\n",
      "*Br    8 :truth_lep2_py : truth_lep2_py/F                                    *\n",
      "*Entries :      156 : Total  Size=       1221 bytes  File Size  =        704 *\n",
      "*Baskets :        1 : Basket Size=      32000 bytes  Compression=   1.00     *\n",
      "*............................................................................*\n",
      "*Br    9 :truth_lep2_pz : truth_lep2_pz/F                                    *\n",
      "*Entries :      156 : Total  Size=       1221 bytes  File Size  =        704 *\n",
      "*Baskets :        1 : Basket Size=      32000 bytes  Compression=   1.00     *\n",
      "*............................................................................*\n",
      "*Br   10 :truth_q1_px : truth_q1_px/F                                        *\n",
      "*Entries :      156 : Total  Size=       1211 bytes  File Size  =        702 *\n",
      "*Baskets :        1 : Basket Size=      32000 bytes  Compression=   1.00     *\n",
      "*............................................................................*\n",
      "*Br   11 :truth_q1_py : truth_q1_py/F                                        *\n",
      "*Entries :      156 : Total  Size=       1211 bytes  File Size  =        702 *\n",
      "*Baskets :        1 : Basket Size=      32000 bytes  Compression=   1.00     *\n",
      "*............................................................................*\n",
      "*Br   12 :truth_q1_pz : truth_q1_pz/F                                        *\n",
      "*Entries :      156 : Total  Size=       1211 bytes  File Size  =        702 *\n",
      "*Baskets :        1 : Basket Size=      32000 bytes  Compression=   1.00     *\n",
      "*............................................................................*\n",
      "*Br   13 :truth_q1_e : truth_q1_e/F                                          *\n",
      "*Entries :      156 : Total  Size=       1206 bytes  File Size  =        701 *\n",
      "*Baskets :        1 : Basket Size=      32000 bytes  Compression=   1.00     *\n",
      "*............................................................................*\n",
      "*Br   14 :truth_q2_px : truth_q2_px/F                                        *\n",
      "*Entries :      156 : Total  Size=       1211 bytes  File Size  =        702 *\n",
      "*Baskets :        1 : Basket Size=      32000 bytes  Compression=   1.00     *\n",
      "*............................................................................*\n",
      "*Br   15 :truth_q2_py : truth_q2_py/F                                        *\n",
      "*Entries :      156 : Total  Size=       1211 bytes  File Size  =        702 *\n",
      "*Baskets :        1 : Basket Size=      32000 bytes  Compression=   1.00     *\n",
      "*............................................................................*\n",
      "*Br   16 :truth_q2_pz : truth_q2_pz/F                                        *\n",
      "*Entries :      156 : Total  Size=       1211 bytes  File Size  =        702 *\n",
      "*Baskets :        1 : Basket Size=      32000 bytes  Compression=   1.00     *\n",
      "*............................................................................*\n",
      "*Br   17 :truth_q2_e : truth_q2_e/F                                          *\n",
      "*Entries :      156 : Total  Size=       1206 bytes  File Size  =        701 *\n",
      "*Baskets :        1 : Basket Size=      32000 bytes  Compression=   1.00     *\n",
      "*............................................................................*\n",
      "*Br   18 :lep_helicity : lep_helicity/F                                      *\n",
      "*Entries :      156 : Total  Size=       1216 bytes  File Size  =        703 *\n",
      "*Baskets :        1 : Basket Size=      32000 bytes  Compression=   1.00     *\n",
      "*............................................................................*\n",
      "*Br   19 :theta_r   : theta_r/F                                              *\n",
      "*Entries :      156 : Total  Size=       1191 bytes  File Size  =        698 *\n",
      "*Baskets :        1 : Basket Size=      32000 bytes  Compression=   1.00     *\n",
      "*............................................................................*\n",
      "*Br   20 :theta_w   : theta_w/F                                              *\n",
      "*Entries :      156 : Total  Size=       1191 bytes  File Size  =        689 *\n",
      "*Baskets :        1 : Basket Size=      32000 bytes  Compression=   1.01     *\n",
      "*............................................................................*\n",
      "*Br   21 :theta_vhad : theta_vhad/F                                          *\n",
      "*Entries :      156 : Total  Size=       1206 bytes  File Size  =        699 *\n",
      "*Baskets :        1 : Basket Size=      32000 bytes  Compression=   1.00     *\n",
      "*............................................................................*\n",
      "*Br   22 :phi_w     : phi_w/F                                                *\n",
      "*Entries :      156 : Total  Size=       1181 bytes  File Size  =        696 *\n",
      "*Baskets :        1 : Basket Size=      32000 bytes  Compression=   1.00     *\n",
      "*............................................................................*\n",
      "*Br   23 :phi_vhad  : phi_vhad/F                                             *\n",
      "*Entries :      156 : Total  Size=       1196 bytes  File Size  =        699 *\n",
      "*Baskets :        1 : Basket Size=      32000 bytes  Compression=   1.00     *\n",
      "*............................................................................*\n"
     ]
    }
   ],
   "source": [
    "tree.Print()"
   ]
  },
  {
   "attachments": {},
   "cell_type": "markdown",
   "metadata": {},
   "source": [
    "```\n",
    "******************************************************************************\n",
    "*Tree    :tree      : tree                                                   *\n",
    "*Entries :      156 : Total =           30015 bytes  File  Size =      17696 *\n",
    "*        :          : Tree compression factor =   1.08                       *\n",
    "******************************************************************************\n",
    "*Br    0 :sample    : string                                                 *\n",
    "*Entries :      156 : Total  Size=       1666 bytes  File Size  =        392 *\n",
    "*Baskets :        1 : Basket Size=      32000 bytes  Compression=   2.99     *\n",
    "*............................................................................*\n",
    "*Br    1 :weight    : weight/F                                               *\n",
    "*Entries :      156 : Total  Size=       1186 bytes  File Size  =        690 *\n",
    "*Baskets :        1 : Basket Size=      32000 bytes  Compression=   1.01     *\n",
    "*............................................................................*\n",
    "```"
   ]
  },
  {
   "attachments": {},
   "cell_type": "markdown",
   "metadata": {
    "slideshow": {
     "slide_type": "slide"
    }
   },
   "source": [
    "### TTrees (3)\n",
    "\n",
    "Loop over tree contents:"
   ]
  },
  {
   "cell_type": "code",
   "execution_count": 5,
   "metadata": {},
   "outputs": [
    {
     "name": "stdout",
     "output_type": "stream",
     "text": [
      "0 WW 0.15749430656433105\n",
      "1 WW 0.1984470635652542\n",
      "2 WW 0.14358942210674286\n",
      "3 WW 0.22988080978393555\n",
      "4 WW 0.23132875561714172\n"
     ]
    }
   ],
   "source": [
    "for entry,event in enumerate(tree):\n",
    "    if entry >= 5: break\n",
    "    print(entry, event.sample, event.weight)"
   ]
  },
  {
   "attachments": {},
   "cell_type": "markdown",
   "metadata": {
    "slideshow": {
     "slide_type": "slide"
    }
   },
   "source": [
    "### Exercise 1\n",
    "\n",
    "* Note the branch `truth_lep1_pdgId`\n",
    "* This is the pdgId of a lepton in each event (11 = e, 13 = mu, 15 = tau)\n",
    "* Count the number of occurences of each lepton"
   ]
  },
  {
   "cell_type": "code",
   "execution_count": 6,
   "metadata": {},
   "outputs": [],
   "source": [
    "# fill me!"
   ]
  },
  {
   "attachments": {},
   "cell_type": "markdown",
   "metadata": {
    "slideshow": {
     "slide_type": "fragment"
    }
   },
   "source": [
    "* Answer: 74 electron, 75 muon, 7 tau"
   ]
  },
  {
   "attachments": {},
   "cell_type": "markdown",
   "metadata": {
    "slideshow": {
     "slide_type": "slide"
    }
   },
   "source": [
    "### Exercise 2\n",
    "\n",
    "* Write a function that returns the mass of the `lep1`. Take `event` as an argument.\n",
    "* Use the function to print the entry number and the mass for the 7 tau events.\n",
    "* Hint 1: Create a [TLorentzVector](https://root.cern.ch/doc/master/classTLorentzVector.html) with `ROOT.TLorentzVector(px, py, pz, e)`\n",
    "* Hint 2: Search the documentation for how to retrieve the mass"
   ]
  },
  {
   "cell_type": "code",
   "execution_count": 7,
   "metadata": {},
   "outputs": [],
   "source": [
    "def truth_lep1_mass(event):\n",
    "    '''\n",
    "    Gets the mass of 'truth_lep1' from an event in our test file.\n",
    "    '''\n",
    "    pass # TODO\n",
    "\n",
    "# implement me!"
   ]
  },
  {
   "attachments": {},
   "cell_type": "markdown",
   "metadata": {},
   "source": [
    "Optional advanced exercise: generalize the function to any of the objects in the file"
   ]
  },
  {
   "attachments": {},
   "cell_type": "markdown",
   "metadata": {
    "slideshow": {
     "slide_type": "slide"
    }
   },
   "source": [
    "Answer: \n",
    "```\n",
    "10 1.777402522020421\n",
    "50 1.7730776138898674\n",
    "56 1.777790404945941\n",
    "105 1.7773254352322867\n",
    "116 1.777033892011321\n",
    "127 1.7769968885935143\n",
    "132 1.7777922133134614\n",
    "```"
   ]
  },
  {
   "attachments": {},
   "cell_type": "markdown",
   "metadata": {
    "slideshow": {
     "slide_type": "fragment"
    }
   },
   "source": [
    "Advanced exercise solution:"
   ]
  },
  {
   "cell_type": "code",
   "execution_count": 8,
   "metadata": {},
   "outputs": [],
   "source": [
    "def mass(event, object):\n",
    "    '''\n",
    "    Gets the mass of an object from an event in our test file.\n",
    "    @param object \n",
    "        The object name prefix, like 'truth_lep1'.\n",
    "    '''\n",
    "    par_names = ['px', 'py', 'pz', 'e']\n",
    "    pars = [getattr(event, f'{object}_{x}') for x in par_names]\n",
    "    v = ROOT.TLorentzVector(*pars)\n",
    "    return v.M()"
   ]
  },
  {
   "attachments": {},
   "cell_type": "markdown",
   "metadata": {
    "slideshow": {
     "slide_type": "slide"
    }
   },
   "source": [
    "### Exercise 3\n",
    "\n",
    "* Copy and edit the advanced solution to return the entire `TLorentzVector`\n",
    "* Create vectors for each `truth_q1` and `truth_q2`\n",
    "* Add them together (just use the plus sign `v_vhad = v_q1 + v_q2`)\n",
    "* Print out the mass of the sum for the first 5 events"
   ]
  },
  {
   "cell_type": "code",
   "execution_count": 13,
   "metadata": {},
   "outputs": [],
   "source": [
    "# implement me!"
   ]
  },
  {
   "attachments": {},
   "cell_type": "markdown",
   "metadata": {},
   "source": [
    "Answer:\n",
    "```\n",
    "0 81.32034253609\n",
    "1 80.9839953325698\n",
    "2 73.01083275667166\n",
    "3 75.12670548627572\n",
    "4 79.40726336910527\n",
    "```"
   ]
  },
  {
   "attachments": {},
   "cell_type": "markdown",
   "metadata": {
    "slideshow": {
     "slide_type": "slide"
    }
   },
   "source": [
    "### Histograms\n",
    "\n",
    "* Main result of HEP analysis is histograms\n",
    "* Histograms count the number of events in **bins**\n",
    "* From the Higgs discovery [paper](https://cds.cern.ch/record/1471031):\n",
    "\n",
    "<img src=\"img/higgs.png\" style=\"height: 400px;\">"
   ]
  },
  {
   "attachments": {},
   "cell_type": "markdown",
   "metadata": {
    "slideshow": {
     "slide_type": "slide"
    }
   },
   "source": [
    "### Histograms (2)\n",
    "\n",
    "ROOT has a [TH1D](https://root.cern.ch/doc/master/classTH1.html) class for 1D histograms"
   ]
  },
  {
   "cell_type": "code",
   "execution_count": 33,
   "metadata": {},
   "outputs": [
    {
     "data": {
      "image/png": "[encoded data removed]",
      "text/plain": [
       "<IPython.core.display.Image object>"
      ]
     },
     "metadata": {},
     "output_type": "display_data"
    }
   ],
   "source": [
    "import random\n",
    "\n",
    "hist = ROOT.TH1D('h', 'title;x-title;y-title', 10, 50, 150)\n",
    "for i in range(50):\n",
    "    hist.Fill(random.randrange(50, 150), 1)\n",
    "\n",
    "canvas = ROOT.TCanvas('c1', '', 400, 300)\n",
    "hist.Draw()\n",
    "canvas.Draw()"
   ]
  },
  {
   "attachments": {},
   "cell_type": "markdown",
   "metadata": {
    "slideshow": {
     "slide_type": "slide"
    }
   },
   "source": [
    "### Exercise 4\n",
    "\n",
    "* Create a histogram with 10 bins between 50 and 150\n",
    "* Fill the histogram with the mass of `v_vhad` from exercise 3 for each event\n",
    "* Use the `weight` branch in the `TTree` as the weight in `Fill`"
   ]
  },
  {
   "cell_type": "code",
   "execution_count": null,
   "metadata": {},
   "outputs": [],
   "source": [
    "h_vhad_m = # TODO\n",
    "\n",
    "# TODO fill h_vhad_m\n",
    "\n",
    "canvas = ROOT.TCanvas('c1', '', 400, 300)\n",
    "h_vhad_m.Draw()\n",
    "canvas.Draw()"
   ]
  },
  {
   "attachments": {},
   "cell_type": "markdown",
   "metadata": {
    "slideshow": {
     "slide_type": "slide"
    }
   },
   "source": [
    "### ROOT in C++\n",
    "\n",
    "* Python makes reading ROOT easy, but really slow!\n",
    "* Two recommended ways: [TTreeReader](https://root.cern.ch/doc/master/classTTreeReader.html) and [RDataFrame](https://root.cern.ch/doc/master/classROOT_1_1RDataFrame.html)\n",
    "  * TTreeReader reads like in python, event by event\n",
    "  * RDataFrame processes entire dataset at once, harder but much faster (see slides in repo)\n",
    "  * DON'T use legacy `SetBranchAddress` method if you come across it\n",
    "* Many tutorials on the web (e.g. [1](https://twiki.cern.ch/twiki/pub/Main/ROOTRioTutorial/ROOT_Rio2015_Part1.pdf), [2](https://indico.cern.ch/event/402660/sessions/162368/attachments/1188610/1724528/ROOT_Rio2015_Part2.pdf))\n",
    "* ROOT also has many useful features for HEP like `TLorentzVector`\n"
   ]
  },
  {
   "attachments": {},
   "cell_type": "markdown",
   "metadata": {
    "slideshow": {
     "slide_type": "slide"
    }
   },
   "source": [
    "## Plotting\n",
    "\n",
    "* ROOT is useful for plotting too!\n",
    "* This is best done in python since we don't care about speed"
   ]
  },
  {
   "attachments": {},
   "cell_type": "markdown",
   "metadata": {
    "slideshow": {
     "slide_type": "slide"
    }
   },
   "source": [
    "### Plot Basics\n",
    "\n",
    "* First create a `TCanvas` to host the plot\n",
    "* Calling `hist.Draw(opt)` will draw the histogram on the \"current\" canvas (yuk side-effects)\n",
    "* Modify color and style attributes on the histogram though! (yuk #2)\n",
    "* See [THistPainter](https://root.cern/doc/master/classTHistPainter.html) for drawing options, [TAttLine](https://root.cern.ch/doc/master/classTAttLine.html) [TAttMarker](https://root.cern.ch/doc/master/classTAttMarker.html) for histogram options\n",
    "* Use `canvas.Draw()` to display and `canvas.Print('out.png')` to save the image"
   ]
  },
  {
   "cell_type": "code",
   "execution_count": 37,
   "metadata": {
    "slideshow": {
     "slide_type": "slide"
    }
   },
   "outputs": [
    {
     "data": {
      "image/png": "[encoded data removed]",
      "text/plain": [
       "<IPython.core.display.Image object>"
      ]
     },
     "metadata": {},
     "output_type": "display_data"
    }
   ],
   "source": [
    "canvas = ROOT.TCanvas('c1', '', 600, 400)\n",
    "hist.SetLineColor(ROOT.kBlue)\n",
    "hist.SetMarkerStyle(ROOT.kFullSquare)\n",
    "hist.SetMarkerColor(ROOT.kRed)\n",
    "hist.Draw('PE')\n",
    "canvas.Draw()"
   ]
  },
  {
   "cell_type": "code",
   "execution_count": 38,
   "metadata": {},
   "outputs": [
    {
     "data": {
      "image/png": "[encoded data removed]",
      "text/plain": [
       "<IPython.core.display.Image object>"
      ]
     },
     "metadata": {},
     "output_type": "display_data"
    }
   ],
   "source": [
    "h_vhad_m.Draw('SAME HIST')\n",
    "canvas.Draw()"
   ]
  },
  {
   "cell_type": "code",
   "execution_count": null,
   "metadata": {},
   "outputs": [],
   "source": []
  }
 ],
 "metadata": {
  "kernelspec": {
   "display_name": "Python 3",
   "language": "python",
   "name": "python3"
  },
  "language_info": {
   "codemirror_mode": {
    "name": "ipython",
    "version": 3
   },
   "file_extension": ".py",
   "mimetype": "text/x-python",
   "name": "python",
   "nbconvert_exporter": "python",
   "pygments_lexer": "ipython3",
   "version": "3.9.6"
  },
  "orig_nbformat": 4
 },
 "nbformat": 4,
 "nbformat_minor": 2
}
