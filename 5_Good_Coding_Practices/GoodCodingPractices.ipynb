{
 "cells": [
  {
   "attachments": {},
   "cell_type": "markdown",
   "metadata": {
    "slideshow": {
     "slide_type": "slide"
    }
   },
   "source": [
    "# Good Coding Practices"
   ]
  },
  {
   "attachments": {},
   "cell_type": "markdown",
   "metadata": {},
   "source": [
    "Display this notebook in slideshow form by running\n",
    "```\n",
    "jupyter nbconvert GoodCodingPractices.ipynb --to slides --post serve\n",
    "```"
   ]
  },
  {
   "attachments": {},
   "cell_type": "markdown",
   "metadata": {
    "slideshow": {
     "slide_type": "slide"
    }
   },
   "source": [
    "* Code must be **maintainable**: easy to understand and change. \n",
    "* Badly written code will <span style=\"color:red\">waste a lot of time</span>, both for your future self and collaborators."
   ]
  },
  {
   "attachments": {},
   "cell_type": "markdown",
   "metadata": {
    "slideshow": {
     "slide_type": "slide"
    }
   },
   "source": [
    "## Code Style\n",
    "\n",
    "Code is meant to be read by humans too, not just computers! Code goes through many iterations:\n",
    "\n",
    "* Adding features\n",
    "* Working with collaborators\n",
    "* Fixing bugs\n",
    "\n",
    "Don't waste brain cycles on reading code!"
   ]
  },
  {
   "attachments": {},
   "cell_type": "markdown",
   "metadata": {
    "slideshow": {
     "slide_type": "slide"
    }
   },
   "source": [
    "### Bad Code Example \n",
    "\n",
    "What does `f` do here?"
   ]
  },
  {
   "cell_type": "code",
   "execution_count": 15,
   "metadata": {},
   "outputs": [],
   "source": [
    "def f(o, oo, O):\n",
    "    return (-oo-(oo**2-4*o*O)**0.5)/2*o,(-oo+(oo**2-4*o*O)**0.5)/2*o"
   ]
  },
  {
   "attachments": {},
   "cell_type": "markdown",
   "metadata": {
    "slideshow": {
     "slide_type": "fragment"
    }
   },
   "source": [
    "This is almost impossible to read..."
   ]
  },
  {
   "attachments": {},
   "cell_type": "markdown",
   "metadata": {
    "slideshow": {
     "slide_type": "slide"
    }
   },
   "source": [
    "### Bad Code Example (2)\n",
    "\n",
    "What if we changed the names?"
   ]
  },
  {
   "cell_type": "code",
   "execution_count": 14,
   "metadata": {},
   "outputs": [],
   "source": [
    "def solve_quadratic(a, b, c):\n",
    "    return (-b-(b**2-4*a*c)**0.5)/2*a,(-b+(b**2-4*a*c)**0.5)/2*a"
   ]
  },
  {
   "attachments": {},
   "cell_type": "markdown",
   "metadata": {
    "slideshow": {
     "slide_type": "slide"
    }
   },
   "source": [
    "### Bad Code Example (3)\n",
    "\n",
    "Make it even better: reduce duplicate code and add whitespace"
   ]
  },
  {
   "cell_type": "code",
   "execution_count": 10,
   "metadata": {},
   "outputs": [],
   "source": [
    "def solve_quadratic(a, b, c):\n",
    "    discriminant = b ** 2 - 4 * a * c\n",
    "    neg_root = (-b - discriminant ** 0.5) / 2 * a\n",
    "    pos_root = (-b + discriminant ** 0.5) / 2 * a\n",
    "    return neg_root, pos_root"
   ]
  },
  {
   "attachments": {},
   "cell_type": "markdown",
   "metadata": {
    "slideshow": {
     "slide_type": "fragment"
    }
   },
   "source": [
    "Did you catch the bug?"
   ]
  },
  {
   "attachments": {},
   "cell_type": "markdown",
   "metadata": {
    "slideshow": {
     "slide_type": "slide"
    }
   },
   "source": [
    "### Bad Code Example (4)\n",
    "\n",
    "Touch it up: add a doc string and catch errors"
   ]
  },
  {
   "cell_type": "code",
   "execution_count": 20,
   "metadata": {},
   "outputs": [],
   "source": [
    "def solve_quadratic(a, b, c):\n",
    "    '''\n",
    "    Solves the equation ax^2 + bx + c = 0 for x using the \n",
    "    quadratic formula.\n",
    "\n",
    "    @return (negative root, positive root)\n",
    "    @throw RuntimeError if the discriminant is negative\n",
    "    '''\n",
    "    discriminant = b ** 2 - 4 * a * c\n",
    "    if discriminant < 0: \n",
    "        raise RuntimeError('solve_quadratic(): discriminant < 0')\n",
    "    \n",
    "    neg_root = (-b - discriminant ** 0.5) / (2 * a)\n",
    "    pos_root = (-b + discriminant ** 0.5) / (2 * a)\n",
    "    return neg_root, pos_root"
   ]
  },
  {
   "attachments": {},
   "cell_type": "markdown",
   "metadata": {
    "slideshow": {
     "slide_type": "slide"
    }
   },
   "source": [
    "### Docstrings\n",
    "\n",
    "* Docstrings are really nice Python feature! \n",
    "* They're displayed by IDEs and can also be accessed interactively\n",
    "* Every class and file should have docstrings, as well as all non-trivial functions"
   ]
  },
  {
   "cell_type": "code",
   "execution_count": 21,
   "metadata": {},
   "outputs": [
    {
     "name": "stdout",
     "output_type": "stream",
     "text": [
      "\n",
      "    Solves the equation ax^2 + bx + c = 0 for x using the \n",
      "    quadratic formula.\n",
      "\n",
      "    @return (negative root, positive root)\n",
      "    @throw RuntimeError if the discriminant is negative\n",
      "    \n"
     ]
    }
   ],
   "source": [
    "print(solve_quadratic.__doc__)"
   ]
  },
  {
   "attachments": {},
   "cell_type": "markdown",
   "metadata": {
    "slideshow": {
     "slide_type": "slide"
    }
   },
   "source": [
    "### Coding Style Commandments\n",
    "\n",
    "* Use descriptive names (single letters are almost always bad!)\n",
    "* White space is important\n",
    "* Functions should usually be under 40 lines (if not, break into helper routines)\n",
    "* Document code with comments and docstrings\n",
    "\n",
    "Lots of automatic formatting tools! "
   ]
  },
  {
   "attachments": {},
   "cell_type": "markdown",
   "metadata": {
    "slideshow": {
     "slide_type": "slide"
    }
   },
   "source": [
    "## Code Architecture\n",
    "\n",
    "* Good code design makes it easier to change or add features\n",
    "* No objectively best paradigm (object-oriented? functional?)\n",
    "* But many <span style=\"color:red\">coding sins</span> to avoid"
   ]
  },
  {
   "attachments": {},
   "cell_type": "markdown",
   "metadata": {
    "slideshow": {
     "slide_type": "slide"
    }
   },
   "source": [
    "### Magic Numbers\n",
    "\n",
    "Don't hardcode magic numbers"
   ]
  },
  {
   "cell_type": "code",
   "execution_count": 78,
   "metadata": {},
   "outputs": [],
   "source": [
    "def draw_flop(deck):\n",
    "    '''Draws the \"flop\" in Texas Hold'em from a deck of cards'''\n",
    "    flop = deck[:3]\n",
    "    new_deck = deck[4:] # burn a card\n",
    "    return flop, new_deck"
   ]
  },
  {
   "attachments": {},
   "cell_type": "markdown",
   "metadata": {
    "slideshow": {
     "slide_type": "fragment"
    }
   },
   "source": [
    "Advisor: what if we try a flop with 4 cards?\n",
    "* You need to modify every place you've assumed a 3-card flop\n",
    "* Ctrl+F? Oops, you missed the 4 by accident"
   ]
  },
  {
   "attachments": {},
   "cell_type": "markdown",
   "metadata": {
    "slideshow": {
     "slide_type": "slide"
    }
   },
   "source": [
    "### Magic Numbers (2)\n",
    "\n",
    "* Use a variable instead\n",
    "* Even better, make it an argument to the function\n",
    "* Easier to understand too"
   ]
  },
  {
   "cell_type": "code",
   "execution_count": 77,
   "metadata": {},
   "outputs": [],
   "source": [
    "def draw_flop(deck, flop_size=3, burn_size=1):\n",
    "    '''Draws the \"flop\" from a deck of cards'''\n",
    "    flop = deck[:flop_size]\n",
    "    new_deck = deck[flop_size+burn_size:]\n",
    "    return flop, new_deck"
   ]
  },
  {
   "attachments": {},
   "cell_type": "markdown",
   "metadata": {
    "slideshow": {
     "slide_type": "slide"
    }
   },
   "source": [
    "### Master Functions\n",
    "\n",
    "Avoid stuffing everything into a single function/class\n",
    "\n",
    "* Hard to read and understand logic flow\n",
    "* Really really hard to modify"
   ]
  },
  {
   "cell_type": "code",
   "execution_count": 71,
   "metadata": {},
   "outputs": [],
   "source": [
    "def main():\n",
    "    # 1000 lines of business\n",
    "    pass"
   ]
  },
  {
   "attachments": {},
   "cell_type": "markdown",
   "metadata": {
    "slideshow": {
     "slide_type": "fragment"
    }
   },
   "source": [
    "Advisor: try doing this again and changing X, XX, XXX"
   ]
  },
  {
   "cell_type": "code",
   "execution_count": 72,
   "metadata": {},
   "outputs": [],
   "source": [
    "def main2():\n",
    "    # rewrite most of the 1000 lines\n",
    "    pass"
   ]
  },
  {
   "attachments": {},
   "cell_type": "markdown",
   "metadata": {
    "slideshow": {
     "slide_type": "slide"
    }
   },
   "source": [
    "### Master Functions (2)\n",
    "\n",
    "Make your code **modular** instead.\n",
    "\n",
    "* Functions should do only one thing\n",
    "* Inputs and outputs should be explicit and obvious"
   ]
  },
  {
   "cell_type": "code",
   "execution_count": 68,
   "metadata": {},
   "outputs": [],
   "source": [
    "def main():\n",
    "    data = read_file(input_file)\n",
    "    data = normalize(data)\n",
    "    results = process(data, options='XXX')\n",
    "    plot(results)"
   ]
  },
  {
   "attachments": {},
   "cell_type": "markdown",
   "metadata": {
    "slideshow": {
     "slide_type": "fragment"
    }
   },
   "source": [
    "Advisor: try doing this again but filter the data, and change XXX"
   ]
  },
  {
   "cell_type": "code",
   "execution_count": 73,
   "metadata": {},
   "outputs": [],
   "source": [
    "def main():\n",
    "    data = read_file(input_file)\n",
    "    data = filter(data)\n",
    "    data = normalize(data)\n",
    "    results = process(data, options='YYY')\n",
    "    plot(results)"
   ]
  },
  {
   "attachments": {},
   "cell_type": "markdown",
   "metadata": {
    "slideshow": {
     "slide_type": "slide"
    }
   },
   "source": [
    "### Globals\n",
    "\n",
    "* Avoid using global variables!\n",
    "* Super hard to track down when it's being used and changed\n",
    "* Python gives you guard rails with the `global` keyword <-- <span style=\"color:red\">big red flag!</span>"
   ]
  },
  {
   "attachments": {},
   "cell_type": "markdown",
   "metadata": {
    "slideshow": {
     "slide_type": "slide"
    }
   },
   "source": [
    "Silly Example"
   ]
  },
  {
   "cell_type": "code",
   "execution_count": 59,
   "metadata": {},
   "outputs": [],
   "source": [
    "# Number of legs each animal has, respectively\n",
    "animals = ['whale', 'human', 'dog']\n",
    "legs = [0, 2, 4]"
   ]
  },
  {
   "cell_type": "code",
   "execution_count": 61,
   "metadata": {
    "slideshow": {
     "slide_type": "fragment"
    }
   },
   "outputs": [
    {
     "name": "stdout",
     "output_type": "stream",
     "text": [
      "whale: 0, human: 2, dog: 4, "
     ]
    }
   ],
   "source": [
    "def print_legs():\n",
    "    for a,c in zip(animals, legs):\n",
    "        print(f'{a}: {c}', end=', ')\n",
    "\n",
    "print_legs()"
   ]
  },
  {
   "cell_type": "code",
   "execution_count": 62,
   "metadata": {
    "slideshow": {
     "slide_type": "fragment"
    }
   },
   "outputs": [
    {
     "name": "stdout",
     "output_type": "stream",
     "text": [
      "['dog', 'human', 'whale']\n"
     ]
    }
   ],
   "source": [
    "def print_animals_alphabetically():\n",
    "    animals.sort()\n",
    "    print(animals)\n",
    "\n",
    "print_animals_alphabetically()"
   ]
  },
  {
   "cell_type": "code",
   "execution_count": 63,
   "metadata": {
    "slideshow": {
     "slide_type": "fragment"
    }
   },
   "outputs": [
    {
     "name": "stdout",
     "output_type": "stream",
     "text": [
      "dog: 0, human: 2, whale: 4, "
     ]
    }
   ],
   "source": [
    "print_legs()"
   ]
  },
  {
   "attachments": {},
   "cell_type": "markdown",
   "metadata": {
    "slideshow": {
     "slide_type": "slide"
    }
   },
   "source": [
    "### Globals (2)\n",
    "\n",
    "* Globals are bad because they **reduce modularity** and encourage **side effects**\n",
    "* Function changes something that you didn't expect --> bugs!\n",
    "* In general, side effects should be avoided"
   ]
  },
  {
   "attachments": {},
   "cell_type": "markdown",
   "metadata": {
    "slideshow": {
     "slide_type": "slide"
    }
   },
   "source": [
    "## Getting Help\n",
    "\n",
    "* [StackOverflow](https://stackoverflow.com/) and Google are your friends\n",
    "* Don't be afraid to ask peers and mentors"
   ]
  },
  {
   "attachments": {},
   "cell_type": "markdown",
   "metadata": {},
   "source": []
  }
 ],
 "metadata": {
  "kernelspec": {
   "display_name": "Python 3 (ipykernel)",
   "language": "python",
   "name": "python3"
  },
  "language_info": {
   "codemirror_mode": {
    "name": "ipython",
    "version": 3
   },
   "file_extension": ".py",
   "mimetype": "text/x-python",
   "name": "python",
   "nbconvert_exporter": "python",
   "pygments_lexer": "ipython3",
   "version": "3.9.6"
  }
 },
 "nbformat": 4,
 "nbformat_minor": 4
}
